{
  "nbformat": 4,
  "nbformat_minor": 0,
  "metadata": {
    "colab": {
      "name": "Dog_Breed_Classification.ipynb",
      "provenance": [],
      "collapsed_sections": []
    },
    "kernelspec": {
      "name": "python3",
      "display_name": "Python 3"
    },
    "accelerator": "GPU"
  },
  "cells": [
    {
      "cell_type": "markdown",
      "metadata": {
        "id": "_F73xyccESxF",
        "colab_type": "text"
      },
      "source": [
        "## Dog Breed Classification\n",
        "\n",
        "In this project we will use traditional CNN, CNN with data augmentation and finally transfer Learning by VGG16 model with weights pre-trained on Imagenet to solve the dog breed classification problem"
      ]
    },
    {
      "cell_type": "markdown",
      "metadata": {
        "id": "QU8gFRrFEdL_",
        "colab_type": "text"
      },
      "source": [
        "### Load Dataset Files"
      ]
    },
    {
      "cell_type": "code",
      "metadata": {
        "id": "hd41PBfEEYfc",
        "colab_type": "code",
        "colab": {}
      },
      "source": [
        "#import libraries\n",
        "import warnings\n",
        "warnings.filterwarnings(\"ignore\")"
      ],
      "execution_count": 0,
      "outputs": []
    },
    {
      "cell_type": "code",
      "metadata": {
        "id": "2tZL50v-EYit",
        "colab_type": "code",
        "outputId": "1c8de61d-2ef0-4feb-8f2f-1c0868f1736b",
        "colab": {
          "base_uri": "https://localhost:8080/",
          "height": 128
        }
      },
      "source": [
        "from google.colab import drive\n",
        "#drive.mount('/content/drive')\n",
        "drive.mount('/content/drive')"
      ],
      "execution_count": 4,
      "outputs": [
        {
          "output_type": "stream",
          "text": [
            "Go to this URL in a browser: https://accounts.google.com/o/oauth2/auth?client_id=947318989803-6bn6qk8qdgf4n4g3pfee6491hc0brc4i.apps.googleusercontent.com&redirect_uri=urn%3aietf%3awg%3aoauth%3a2.0%3aoob&response_type=code&scope=email%20https%3a%2f%2fwww.googleapis.com%2fauth%2fdocs.test%20https%3a%2f%2fwww.googleapis.com%2fauth%2fdrive%20https%3a%2f%2fwww.googleapis.com%2fauth%2fdrive.photos.readonly%20https%3a%2f%2fwww.googleapis.com%2fauth%2fpeopleapi.readonly\n",
            "\n",
            "Enter your authorization code:\n",
            "··········\n",
            "Mounted at /content/drive\n"
          ],
          "name": "stdout"
        }
      ]
    },
    {
      "cell_type": "code",
      "metadata": {
        "id": "yfNRRIkpEYlI",
        "colab_type": "code",
        "outputId": "cd6e2e47-8a35-4c57-f3af-578c0b426e1b",
        "colab": {
          "base_uri": "https://localhost:8080/",
          "height": 90
        }
      },
      "source": [
        "!ls \"/content/drive/My Drive/Paridhi_Colab/CNN_Project/Data\"\n"
      ],
      "execution_count": 5,
      "outputs": [
        {
          "output_type": "stream",
          "text": [
            "labels.csv.zip\t\t   Unzip_data\n",
            "sample_submission.csv.zip  vgg16_weights_tf_dim_ordering_tf_kernels_notop.h5\n",
            "test.zip\t\t   weights.best_from_scratch.hdf5\n",
            "train.zip\n"
          ],
          "name": "stdout"
        }
      ]
    },
    {
      "cell_type": "code",
      "metadata": {
        "id": "dSlxiaYjEYoY",
        "colab_type": "code",
        "colab": {}
      },
      "source": [
        "project_path  = '/content/drive/My Drive/Paridhi_Colab/CNN_Project/Data'"
      ],
      "execution_count": 0,
      "outputs": []
    },
    {
      "cell_type": "code",
      "metadata": {
        "id": "PcRmeZBAEYra",
        "colab_type": "code",
        "colab": {}
      },
      "source": [
        "from zipfile import ZipFile\n",
        "with ZipFile(project_path+'/train.zip', 'r') as z:\n",
        "  z.extractall()"
      ],
      "execution_count": 0,
      "outputs": []
    },
    {
      "cell_type": "code",
      "metadata": {
        "id": "cvp62TpUEmIa",
        "colab_type": "code",
        "colab": {}
      },
      "source": [
        "from zipfile import ZipFile\n",
        "with ZipFile(project_path+'/test.zip', 'r') as z:\n",
        "  z.extractall()"
      ],
      "execution_count": 0,
      "outputs": []
    },
    {
      "cell_type": "code",
      "metadata": {
        "id": "jypFwoaAEmLM",
        "colab_type": "code",
        "colab": {}
      },
      "source": [
        "from zipfile import ZipFile\n",
        "with ZipFile(project_path+'/sample_submission.csv.zip', 'r') as z:\n",
        "  z.extractall()"
      ],
      "execution_count": 0,
      "outputs": []
    },
    {
      "cell_type": "code",
      "metadata": {
        "id": "Q5X6nhvNEmN-",
        "colab_type": "code",
        "colab": {}
      },
      "source": [
        "from zipfile import ZipFile\n",
        "with ZipFile(project_path+'/labels.csv.zip', 'r') as z:\n",
        "  z.extractall()"
      ],
      "execution_count": 0,
      "outputs": []
    },
    {
      "cell_type": "markdown",
      "metadata": {
        "id": "gooI-cYOE5uY",
        "colab_type": "text"
      },
      "source": [
        "###Read labels.csv file using pandas"
      ]
    },
    {
      "cell_type": "code",
      "metadata": {
        "id": "bvuGJe8FEmR4",
        "colab_type": "code",
        "colab": {}
      },
      "source": [
        "import pandas as pd\n",
        "df_Labels = pd.read_csv('labels.csv')"
      ],
      "execution_count": 0,
      "outputs": []
    },
    {
      "cell_type": "code",
      "metadata": {
        "id": "7TnQimsYnw9U",
        "colab_type": "code",
        "outputId": "0d17b267-ae55-442a-dc44-be12e24683ed",
        "colab": {
          "base_uri": "https://localhost:8080/",
          "height": 108
        }
      },
      "source": [
        "df_Labels.head(2)"
      ],
      "execution_count": 12,
      "outputs": [
        {
          "output_type": "execute_result",
          "data": {
            "text/html": [
              "<div>\n",
              "<style scoped>\n",
              "    .dataframe tbody tr th:only-of-type {\n",
              "        vertical-align: middle;\n",
              "    }\n",
              "\n",
              "    .dataframe tbody tr th {\n",
              "        vertical-align: top;\n",
              "    }\n",
              "\n",
              "    .dataframe thead th {\n",
              "        text-align: right;\n",
              "    }\n",
              "</style>\n",
              "<table border=\"1\" class=\"dataframe\">\n",
              "  <thead>\n",
              "    <tr style=\"text-align: right;\">\n",
              "      <th></th>\n",
              "      <th>id</th>\n",
              "      <th>breed</th>\n",
              "    </tr>\n",
              "  </thead>\n",
              "  <tbody>\n",
              "    <tr>\n",
              "      <th>0</th>\n",
              "      <td>000bec180eb18c7604dcecc8fe0dba07</td>\n",
              "      <td>boston_bull</td>\n",
              "    </tr>\n",
              "    <tr>\n",
              "      <th>1</th>\n",
              "      <td>001513dfcb2ffafc82cccf4d8bbaba97</td>\n",
              "      <td>dingo</td>\n",
              "    </tr>\n",
              "  </tbody>\n",
              "</table>\n",
              "</div>"
            ],
            "text/plain": [
              "                                 id        breed\n",
              "0  000bec180eb18c7604dcecc8fe0dba07  boston_bull\n",
              "1  001513dfcb2ffafc82cccf4d8bbaba97        dingo"
            ]
          },
          "metadata": {
            "tags": []
          },
          "execution_count": 12
        }
      ]
    },
    {
      "cell_type": "markdown",
      "metadata": {
        "id": "F-pGS6FlFC4_",
        "colab_type": "text"
      },
      "source": [
        "### Print the count of each category of Dogs given in the dataset"
      ]
    },
    {
      "cell_type": "code",
      "metadata": {
        "id": "wjwFKMPZEmUe",
        "colab_type": "code",
        "outputId": "f9189eeb-fded-475c-f593-483ac45f65d3",
        "colab": {
          "base_uri": "https://localhost:8080/",
          "height": 35
        }
      },
      "source": [
        "# total 120 dog breeds are available\n",
        "df_Labels['breed'].value_counts().count()"
      ],
      "execution_count": 13,
      "outputs": [
        {
          "output_type": "execute_result",
          "data": {
            "text/plain": [
              "120"
            ]
          },
          "metadata": {
            "tags": []
          },
          "execution_count": 13
        }
      ]
    },
    {
      "cell_type": "code",
      "metadata": {
        "id": "eoRi3kyGFF2g",
        "colab_type": "code",
        "outputId": "c4b67bdf-d02c-4f92-a30b-e4f7d2ca8664",
        "colab": {
          "base_uri": "https://localhost:8080/",
          "height": 217
        }
      },
      "source": [
        "# Count of each category of dogs\n",
        "c = df_Labels['breed'].value_counts()\n",
        "# extracting top most dog breeds\n",
        "c.sort_values(ascending=False)[:10]"
      ],
      "execution_count": 14,
      "outputs": [
        {
          "output_type": "execute_result",
          "data": {
            "text/plain": [
              "scottish_deerhound      126\n",
              "maltese_dog             117\n",
              "afghan_hound            116\n",
              "entlebucher             115\n",
              "bernese_mountain_dog    114\n",
              "shih-tzu                112\n",
              "great_pyrenees          111\n",
              "pomeranian              111\n",
              "basenji                 110\n",
              "samoyed                 109\n",
              "Name: breed, dtype: int64"
            ]
          },
          "metadata": {
            "tags": []
          },
          "execution_count": 14
        }
      ]
    },
    {
      "cell_type": "markdown",
      "metadata": {
        "id": "m5X5dDf2FSdw",
        "colab_type": "text"
      },
      "source": [
        "### Get one-hot encodings of labels"
      ]
    },
    {
      "cell_type": "code",
      "metadata": {
        "id": "waUgktVY6fCq",
        "colab_type": "code",
        "colab": {}
      },
      "source": [
        "#batch_size = 128\n",
        "num_classes = 120\n",
        "#epochs = 12"
      ],
      "execution_count": 0,
      "outputs": []
    },
    {
      "cell_type": "code",
      "metadata": {
        "id": "x01jwOFTgrwE",
        "colab_type": "code",
        "colab": {}
      },
      "source": [
        "#y_train = keras.utils.to_categorical(y_train, num_classes)   # Converting the target into categorical which is stored as numeric\n",
        "#y_test = keras.utils.to_categorical(y_test, num_classes)     # Keras converst these into 1-hot coded vectors as these are lables"
      ],
      "execution_count": 0,
      "outputs": []
    },
    {
      "cell_type": "code",
      "metadata": {
        "id": "gOTsySohg67N",
        "colab_type": "code",
        "colab": {}
      },
      "source": [
        "#import keras.utils\n",
        "#label_new = df_Labels['breed']\n",
        "#label_new = keras.utils.to_categorical(label_new, num_classes) "
      ],
      "execution_count": 0,
      "outputs": []
    },
    {
      "cell_type": "code",
      "metadata": {
        "id": "JHYXoAO_FF70",
        "colab_type": "code",
        "outputId": "df298d62-c4aa-449a-a83c-90f5e6c5ff12",
        "colab": {
          "base_uri": "https://localhost:8080/",
          "height": 54
        }
      },
      "source": [
        "from numpy import array\n",
        "#from numpy import argmax\n",
        "from sklearn.preprocessing import LabelEncoder\n",
        "from sklearn.preprocessing import OneHotEncoder\n",
        "values = array(df_Labels['breed'])\n",
        "print(values)"
      ],
      "execution_count": 18,
      "outputs": [
        {
          "output_type": "stream",
          "text": [
            "['boston_bull' 'dingo' 'pekinese' ... 'airedale' 'miniature_pinscher'\n",
            " 'chesapeake_bay_retriever']\n"
          ],
          "name": "stdout"
        }
      ]
    },
    {
      "cell_type": "code",
      "metadata": {
        "id": "1sR-4Zvw7OkJ",
        "colab_type": "code",
        "colab": {}
      },
      "source": [
        "\n",
        "# Check the colwidth \n",
        "#pd.options.display.max_colwidth\n",
        "# resize\n",
        "#pd.options.display.max_colwidth = 120\n",
        "\n",
        "# Setting it to max\n",
        "pd.set_option('display.max_rows', None)\n",
        "pd.set_option('display.max_columns', None)\n",
        "pd.set_option('display.width', None)\n",
        "pd.set_option('display.max_colwidth', -1)"
      ],
      "execution_count": 0,
      "outputs": []
    },
    {
      "cell_type": "code",
      "metadata": {
        "id": "GWtwf5ghFF_L",
        "colab_type": "code",
        "outputId": "7db5eb99-cbe4-409f-e811-d22bad4880c3",
        "colab": {
          "base_uri": "https://localhost:8080/",
          "height": 181
        }
      },
      "source": [
        "#integer encode\n",
        "label_encoder = LabelEncoder()\n",
        "integer_encoded = label_encoder.fit_transform(values)\n",
        "print(integer_encoded)\n",
        "\n",
        "# binary encode\n",
        "onehot_encoder = OneHotEncoder(sparse=False)\n",
        "integer_encoded = integer_encoded.reshape(len(integer_encoded), 1)\n",
        "onehot_encoded = onehot_encoder.fit_transform(integer_encoded)\n",
        "print(onehot_encoded)\n",
        "\n",
        "# invert first example\n",
        "#inverted = label_encoder.inverse_transform([argmax(onehot_encoded[0, :])])\n",
        "#print(inverted)\n",
        "\n",
        "print('Shape is:',onehot_encoded.shape)"
      ],
      "execution_count": 20,
      "outputs": [
        {
          "output_type": "stream",
          "text": [
            "[19 37 85 ...  3 75 28]\n",
            "[[0. 0. 0. ... 0. 0. 0.]\n",
            " [0. 0. 0. ... 0. 0. 0.]\n",
            " [0. 0. 0. ... 0. 0. 0.]\n",
            " ...\n",
            " [0. 0. 0. ... 0. 0. 0.]\n",
            " [0. 0. 0. ... 0. 0. 0.]\n",
            " [0. 0. 0. ... 0. 0. 0.]]\n",
            "Shape is: (10222, 120)\n"
          ],
          "name": "stdout"
        }
      ]
    },
    {
      "cell_type": "code",
      "metadata": {
        "id": "G1ssfTM0JfrF",
        "colab_type": "code",
        "outputId": "74d5cdaf-2b75-4d84-e247-c4dc64fecbcd",
        "colab": {
          "base_uri": "https://localhost:8080/",
          "height": 35
        }
      },
      "source": [
        "# total number of elements in the encoded array\n",
        "onehot_encoded.size"
      ],
      "execution_count": 21,
      "outputs": [
        {
          "output_type": "execute_result",
          "data": {
            "text/plain": [
              "1226640"
            ]
          },
          "metadata": {
            "tags": []
          },
          "execution_count": 21
        }
      ]
    },
    {
      "cell_type": "code",
      "metadata": {
        "id": "LyG6ubUbDdsv",
        "colab_type": "code",
        "outputId": "a1dbcfe0-ab4e-4aec-c028-2b5101bd51f8",
        "colab": {
          "base_uri": "https://localhost:8080/",
          "height": 72
        }
      },
      "source": [
        "# Let's check the number of 1 and 0 in the encoded array . Sum of the counts must be equal to 1226640\n",
        "import numpy as np\n",
        "count1 = 0\n",
        "count0 = 0\n",
        "for x in np.nditer(onehot_encoded):\n",
        "  if x == 1:\n",
        "    count1 += 1 \n",
        "  if x == 0:\n",
        "    count0 += 1\n",
        "\n",
        "print('Count of 1 in the binary encoded array:', count1)\n",
        "print('Count of 0 in the binary encoded array:', count0)\n",
        "print('Total number of elements in the encoded array is :', count0+count1)\n",
        "\n",
        "#Alternate way to check in any particular column\n",
        "#np.any(onehot_encoded[:, 16] == 1)\n"
      ],
      "execution_count": 22,
      "outputs": [
        {
          "output_type": "stream",
          "text": [
            "Count of 1 in the binary encoded array: 10222\n",
            "Count of 0 in the binary encoded array: 1216418\n",
            "Total number of elements in the encoded array is : 1226640\n"
          ],
          "name": "stdout"
        }
      ]
    },
    {
      "cell_type": "code",
      "metadata": {
        "id": "H9KDYp8tFGCU",
        "colab_type": "code",
        "colab": {}
      },
      "source": [
        "# replacing underscore for the breed names\n",
        "#df_Labels.breed = df_Labels.breed.str.replace('_', ' ')"
      ],
      "execution_count": 0,
      "outputs": []
    },
    {
      "cell_type": "code",
      "metadata": {
        "id": "8KE4_PTjF8-P",
        "colab_type": "code",
        "outputId": "79f60d42-01ba-41b1-c2e3-127b656064b8",
        "colab": {
          "base_uri": "https://localhost:8080/",
          "height": 217
        }
      },
      "source": [
        "df_Labels.breed[:10] "
      ],
      "execution_count": 24,
      "outputs": [
        {
          "output_type": "execute_result",
          "data": {
            "text/plain": [
              "0    boston_bull       \n",
              "1    dingo             \n",
              "2    pekinese          \n",
              "3    bluetick          \n",
              "4    golden_retriever  \n",
              "5    bedlington_terrier\n",
              "6    bedlington_terrier\n",
              "7    borzoi            \n",
              "8    basenji           \n",
              "9    scottish_deerhound\n",
              "Name: breed, dtype: object"
            ]
          },
          "metadata": {
            "tags": []
          },
          "execution_count": 24
        }
      ]
    },
    {
      "cell_type": "markdown",
      "metadata": {
        "id": "D3OTG5GpGP3I",
        "colab_type": "text"
      },
      "source": [
        "## Preparing training dataset\n",
        "1. Write a code which reads each and every id from labels.csv file and loads the corresponding image (in RGB - 128, 128, 3) from the train folder. <br>\n",
        "2. Create 2 variables <br> \n",
        "     a.  x_train - Should have all the images of the dogs from train folder <br>\n",
        "     b.  y_train - Corresponding label of the dog <br>\n",
        "<u>Note:</u> The id of the dog images and its corresponding labels are available in labels.csv file   \n",
        "<u>Hint:</u> Watch the video shared on \"Preparing the training dataset\" if you face issue on creating the training dataset"
      ]
    },
    {
      "cell_type": "code",
      "metadata": {
        "id": "VXGdSCbDGJ4r",
        "colab_type": "code",
        "colab": {}
      },
      "source": [
        "img_rows = 128\n",
        "img_cols = 128\n",
        "#num_channel = 1"
      ],
      "execution_count": 0,
      "outputs": []
    },
    {
      "cell_type": "code",
      "metadata": {
        "id": "k8XrecJmGJ7m",
        "colab_type": "code",
        "outputId": "bbc18993-a4d1-4adb-9e66-998c2982a546",
        "colab": {
          "base_uri": "https://localhost:8080/",
          "height": 35
        }
      },
      "source": [
        "#Preparing training data\n",
        "\n",
        "from tqdm import tqdm\n",
        "import cv2 \n",
        "\n",
        "x_train_data = []\n",
        "y_train_data = []\n",
        "\n",
        "#f for format ,jpg\n",
        "for f, img in tqdm(df_Labels.values):  \n",
        "  train_img = cv2.imread('./train/{}.jpg'.format(f),1)  \n",
        "  train_img_resize = cv2.resize(train_img, (img_rows,img_cols))  \n",
        "  x_train_data.append(train_img_resize)\n",
        "  y_train_data.append(img)"
      ],
      "execution_count": 26,
      "outputs": [
        {
          "output_type": "stream",
          "text": [
            "100%|██████████| 10222/10222 [00:27<00:00, 367.42it/s]\n"
          ],
          "name": "stderr"
        }
      ]
    },
    {
      "cell_type": "code",
      "metadata": {
        "id": "t9DihabTGJ-a",
        "colab_type": "code",
        "outputId": "20e1be62-f69e-483b-e271-56efcf4799a6",
        "colab": {
          "base_uri": "https://localhost:8080/",
          "height": 35
        }
      },
      "source": [
        "y_train_data[0]"
      ],
      "execution_count": 27,
      "outputs": [
        {
          "output_type": "execute_result",
          "data": {
            "text/plain": [
              "'boston_bull'"
            ]
          },
          "metadata": {
            "tags": []
          },
          "execution_count": 27
        }
      ]
    },
    {
      "cell_type": "code",
      "metadata": {
        "id": "V5F2pS9ponnY",
        "colab_type": "code",
        "colab": {}
      },
      "source": [
        "y_train_data = onehot_encoded"
      ],
      "execution_count": 0,
      "outputs": []
    },
    {
      "cell_type": "code",
      "metadata": {
        "id": "WMQWC203orwP",
        "colab_type": "code",
        "outputId": "010b98ba-72bb-4a4d-8c3c-83fc5e7cb006",
        "colab": {
          "base_uri": "https://localhost:8080/",
          "height": 35
        }
      },
      "source": [
        "import numpy as np\n",
        "y_train_data = np.array(y_train_data)\n",
        "y_train_data.shape"
      ],
      "execution_count": 29,
      "outputs": [
        {
          "output_type": "execute_result",
          "data": {
            "text/plain": [
              "(10222, 120)"
            ]
          },
          "metadata": {
            "tags": []
          },
          "execution_count": 29
        }
      ]
    },
    {
      "cell_type": "code",
      "metadata": {
        "id": "nBKCr2zupTKn",
        "colab_type": "code",
        "outputId": "b33c8dda-9d56-437b-ab2d-e27d7177ea5b",
        "colab": {
          "base_uri": "https://localhost:8080/",
          "height": 35
        }
      },
      "source": [
        "x_train_data = np.array(x_train_data)\n",
        "x_train_data.shape"
      ],
      "execution_count": 30,
      "outputs": [
        {
          "output_type": "execute_result",
          "data": {
            "text/plain": [
              "(10222, 128, 128, 3)"
            ]
          },
          "metadata": {
            "tags": []
          },
          "execution_count": 30
        }
      ]
    },
    {
      "cell_type": "code",
      "metadata": {
        "id": "uKtImy1CGKBf",
        "colab_type": "code",
        "outputId": "964cb477-6a65-404c-adf9-bae37e7825ab",
        "colab": {
          "base_uri": "https://localhost:8080/",
          "height": 286
        }
      },
      "source": [
        "import matplotlib.pyplot as plt\n",
        "plt.imshow(x_train_data[28])"
      ],
      "execution_count": 31,
      "outputs": [
        {
          "output_type": "execute_result",
          "data": {
            "text/plain": [
              "<matplotlib.image.AxesImage at 0x7f978d2abd30>"
            ]
          },
          "metadata": {
            "tags": []
          },
          "execution_count": 31
        },
        {
          "output_type": "display_data",
          "data": {
            "image/png": "[encoded data removed]",
            "text/plain": [
              "<Figure size 432x288 with 1 Axes>"
            ]
          },
          "metadata": {
            "tags": [],
            "needs_background": "light"
          }
        }
      ]
    },
    {
      "cell_type": "markdown",
      "metadata": {
        "id": "-vvmZOd_Gwbe",
        "colab_type": "text"
      },
      "source": [
        "Normalize the training data and convert into 4 dimensions so that it can be used as an input to conv layers in the model"
      ]
    },
    {
      "cell_type": "code",
      "metadata": {
        "id": "ivSrHq1wGqKC",
        "colab_type": "code",
        "outputId": "77b39c25-68b1-4a15-a20b-4283ac75c44e",
        "colab": {
          "base_uri": "https://localhost:8080/",
          "height": 90
        }
      },
      "source": [
        "# pixel normalization\n",
        "from numpy import asarray\n",
        "# load image\n",
        "x_train_data = asarray(x_train_data)\n",
        "# confirm pixel range is 0-255\n",
        "print('Data Type: %s' % x_train_data.dtype)\n",
        "print('Min: %.3f, Max: %.3f' % (x_train_data.min(), x_train_data.max()))\n",
        "# convert from integers to floats\n",
        "x_train_data = x_train_data.astype('float32')\n",
        "# normalize to the range 0-1\n",
        "x_train_data /= 255.0\n",
        "# confirm the normalization\n",
        "print('Min: %.3f, Max: %.3f' % (x_train_data.min(), x_train_data.max()))\n",
        "print('train data shape:',x_train_data.shape)"
      ],
      "execution_count": 32,
      "outputs": [
        {
          "output_type": "stream",
          "text": [
            "Data Type: uint8\n",
            "Min: 0.000, Max: 255.000\n",
            "Min: 0.000, Max: 1.000\n",
            "train data shape: (10222, 128, 128, 3)\n"
          ],
          "name": "stdout"
        }
      ]
    },
    {
      "cell_type": "markdown",
      "metadata": {
        "id": "KR1nAJxdPkRv",
        "colab_type": "text"
      },
      "source": [
        "Split the training and validation data from x_train_data and y_train_data obtained from above step"
      ]
    },
    {
      "cell_type": "code",
      "metadata": {
        "id": "44VxKz7MGqNa",
        "colab_type": "code",
        "colab": {}
      },
      "source": [
        "from sklearn.model_selection import train_test_split\n",
        "X_train, X_val, y_train, y_val = train_test_split(x_train_data,y_train_data, test_size=0.30, random_state=42)"
      ],
      "execution_count": 0,
      "outputs": []
    },
    {
      "cell_type": "code",
      "metadata": {
        "id": "fCpiHjIAp8pO",
        "colab_type": "code",
        "outputId": "c1726fd8-4c52-49cf-bfb2-281301264138",
        "colab": {
          "base_uri": "https://localhost:8080/",
          "height": 54
        }
      },
      "source": [
        "print (len(X_train))\n",
        "print (len(X_val))"
      ],
      "execution_count": 34,
      "outputs": [
        {
          "output_type": "stream",
          "text": [
            "7155\n",
            "3067\n"
          ],
          "name": "stdout"
        }
      ]
    },
    {
      "cell_type": "code",
      "metadata": {
        "id": "GaY8bs0HqBOu",
        "colab_type": "code",
        "outputId": "72d1de8b-0164-4866-f1cd-16e1bf914848",
        "colab": {
          "base_uri": "https://localhost:8080/",
          "height": 54
        }
      },
      "source": [
        "print (X_train.shape)\n",
        "print (X_val.shape)"
      ],
      "execution_count": 35,
      "outputs": [
        {
          "output_type": "stream",
          "text": [
            "(7155, 128, 128, 3)\n",
            "(3067, 128, 128, 3)\n"
          ],
          "name": "stdout"
        }
      ]
    },
    {
      "cell_type": "markdown",
      "metadata": {
        "id": "9BYT6iTLQnBF",
        "colab_type": "text"
      },
      "source": [
        "Loading the test data\n",
        "\n",
        "Read the id column from the samples_submission.csv and store it in test_img"
      ]
    },
    {
      "cell_type": "code",
      "metadata": {
        "id": "vMHuR7BGNAr2",
        "colab_type": "code",
        "colab": {}
      },
      "source": [
        "df_SampleSubmission = pd.read_csv('sample_submission.csv')"
      ],
      "execution_count": 0,
      "outputs": []
    },
    {
      "cell_type": "code",
      "metadata": {
        "id": "24bxY3vnNbKS",
        "colab_type": "code",
        "outputId": "2bb96791-cec9-4772-d84b-3327f5ea4f7e",
        "colab": {
          "base_uri": "https://localhost:8080/",
          "height": 235
        }
      },
      "source": [
        "df_SampleSubmission.head(5)"
      ],
      "execution_count": 37,
      "outputs": [
        {
          "output_type": "execute_result",
          "data": {
            "text/html": [
              "<div>\n",
              "<style scoped>\n",
              "    .dataframe tbody tr th:only-of-type {\n",
              "        vertical-align: middle;\n",
              "    }\n",
              "\n",
              "    .dataframe tbody tr th {\n",
              "        vertical-align: top;\n",
              "    }\n",
              "\n",
              "    .dataframe thead th {\n",
              "        text-align: right;\n",
              "    }\n",
              "</style>\n",
              "<table border=\"1\" class=\"dataframe\">\n",
              "  <thead>\n",
              "    <tr style=\"text-align: right;\">\n",
              "      <th></th>\n",
              "      <th>id</th>\n",
              "      <th>affenpinscher</th>\n",
              "      <th>afghan_hound</th>\n",
              "      <th>african_hunting_dog</th>\n",
              "      <th>airedale</th>\n",
              "      <th>american_staffordshire_terrier</th>\n",
              "      <th>appenzeller</th>\n",
              "      <th>australian_terrier</th>\n",
              "      <th>basenji</th>\n",
              "      <th>basset</th>\n",
              "      <th>beagle</th>\n",
              "      <th>bedlington_terrier</th>\n",
              "      <th>bernese_mountain_dog</th>\n",
              "      <th>black-and-tan_coonhound</th>\n",
              "      <th>blenheim_spaniel</th>\n",
              "      <th>bloodhound</th>\n",
              "      <th>bluetick</th>\n",
              "      <th>border_collie</th>\n",
              "      <th>border_terrier</th>\n",
              "      <th>borzoi</th>\n",
              "      <th>boston_bull</th>\n",
              "      <th>bouvier_des_flandres</th>\n",
              "      <th>boxer</th>\n",
              "      <th>brabancon_griffon</th>\n",
              "      <th>briard</th>\n",
              "      <th>brittany_spaniel</th>\n",
              "      <th>bull_mastiff</th>\n",
              "      <th>cairn</th>\n",
              "      <th>cardigan</th>\n",
              "      <th>chesapeake_bay_retriever</th>\n",
              "      <th>chihuahua</th>\n",
              "      <th>chow</th>\n",
              "      <th>clumber</th>\n",
              "      <th>cocker_spaniel</th>\n",
              "      <th>collie</th>\n",
              "      <th>curly-coated_retriever</th>\n",
              "      <th>dandie_dinmont</th>\n",
              "      <th>dhole</th>\n",
              "      <th>dingo</th>\n",
              "      <th>doberman</th>\n",
              "      <th>english_foxhound</th>\n",
              "      <th>english_setter</th>\n",
              "      <th>english_springer</th>\n",
              "      <th>entlebucher</th>\n",
              "      <th>eskimo_dog</th>\n",
              "      <th>flat-coated_retriever</th>\n",
              "      <th>french_bulldog</th>\n",
              "      <th>german_shepherd</th>\n",
              "      <th>german_short-haired_pointer</th>\n",
              "      <th>giant_schnauzer</th>\n",
              "      <th>golden_retriever</th>\n",
              "      <th>gordon_setter</th>\n",
              "      <th>great_dane</th>\n",
              "      <th>great_pyrenees</th>\n",
              "      <th>greater_swiss_mountain_dog</th>\n",
              "      <th>groenendael</th>\n",
              "      <th>ibizan_hound</th>\n",
              "      <th>irish_setter</th>\n",
              "      <th>irish_terrier</th>\n",
              "      <th>irish_water_spaniel</th>\n",
              "      <th>irish_wolfhound</th>\n",
              "      <th>italian_greyhound</th>\n",
              "      <th>japanese_spaniel</th>\n",
              "      <th>keeshond</th>\n",
              "      <th>kelpie</th>\n",
              "      <th>kerry_blue_terrier</th>\n",
              "      <th>komondor</th>\n",
              "      <th>kuvasz</th>\n",
              "      <th>labrador_retriever</th>\n",
              "      <th>lakeland_terrier</th>\n",
              "      <th>leonberg</th>\n",
              "      <th>lhasa</th>\n",
              "      <th>malamute</th>\n",
              "      <th>malinois</th>\n",
              "      <th>maltese_dog</th>\n",
              "      <th>mexican_hairless</th>\n",
              "      <th>miniature_pinscher</th>\n",
              "      <th>miniature_poodle</th>\n",
              "      <th>miniature_schnauzer</th>\n",
              "      <th>newfoundland</th>\n",
              "      <th>norfolk_terrier</th>\n",
              "      <th>norwegian_elkhound</th>\n",
              "      <th>norwich_terrier</th>\n",
              "      <th>old_english_sheepdog</th>\n",
              "      <th>otterhound</th>\n",
              "      <th>papillon</th>\n",
              "      <th>pekinese</th>\n",
              "      <th>pembroke</th>\n",
              "      <th>pomeranian</th>\n",
              "      <th>pug</th>\n",
              "      <th>redbone</th>\n",
              "      <th>rhodesian_ridgeback</th>\n",
              "      <th>rottweiler</th>\n",
              "      <th>saint_bernard</th>\n",
              "      <th>saluki</th>\n",
              "      <th>samoyed</th>\n",
              "      <th>schipperke</th>\n",
              "      <th>scotch_terrier</th>\n",
              "      <th>scottish_deerhound</th>\n",
              "      <th>sealyham_terrier</th>\n",
              "      <th>shetland_sheepdog</th>\n",
              "      <th>shih-tzu</th>\n",
              "      <th>siberian_husky</th>\n",
              "      <th>silky_terrier</th>\n",
              "      <th>soft-coated_wheaten_terrier</th>\n",
              "      <th>staffordshire_bullterrier</th>\n",
              "      <th>standard_poodle</th>\n",
              "      <th>standard_schnauzer</th>\n",
              "      <th>sussex_spaniel</th>\n",
              "      <th>tibetan_mastiff</th>\n",
              "      <th>tibetan_terrier</th>\n",
              "      <th>toy_poodle</th>\n",
              "      <th>toy_terrier</th>\n",
              "      <th>vizsla</th>\n",
              "      <th>walker_hound</th>\n",
              "      <th>weimaraner</th>\n",
              "      <th>welsh_springer_spaniel</th>\n",
              "      <th>west_highland_white_terrier</th>\n",
              "      <th>whippet</th>\n",
              "      <th>wire-haired_fox_terrier</th>\n",
              "      <th>yorkshire_terrier</th>\n",
              "    </tr>\n",
              "  </thead>\n",
              "  <tbody>\n",
              "    <tr>\n",
              "      <th>0</th>\n",
              "      <td>000621fb3cbb32d8935728e48679680e</td>\n",
              "      <td>0.008333</td>\n",
              "      <td>0.008333</td>\n",
              "      <td>0.008333</td>\n",
              "      <td>0.008333</td>\n",
              "      <td>0.008333</td>\n",
              "      <td>0.008333</td>\n",
              "      <td>0.008333</td>\n",
              "      <td>0.008333</td>\n",
              "      <td>0.008333</td>\n",
              "      <td>0.008333</td>\n",
              "      <td>0.008333</td>\n",
              "      <td>0.008333</td>\n",
              "      <td>0.008333</td>\n",
              "      <td>0.008333</td>\n",
              "      <td>0.008333</td>\n",
              "      <td>0.008333</td>\n",
              "      <td>0.008333</td>\n",
              "      <td>0.008333</td>\n",
              "      <td>0.008333</td>\n",
              "      <td>0.008333</td>\n",
              "      <td>0.008333</td>\n",
              "      <td>0.008333</td>\n",
              "      <td>0.008333</td>\n",
              "      <td>0.008333</td>\n",
              "      <td>0.008333</td>\n",
              "      <td>0.008333</td>\n",
              "      <td>0.008333</td>\n",
              "      <td>0.008333</td>\n",
              "      <td>0.008333</td>\n",
              "      <td>0.008333</td>\n",
              "      <td>0.008333</td>\n",
              "      <td>0.008333</td>\n",
              "      <td>0.008333</td>\n",
              "      <td>0.008333</td>\n",
              "      <td>0.008333</td>\n",
              "      <td>0.008333</td>\n",
              "      <td>0.008333</td>\n",
              "      <td>0.008333</td>\n",
              "      <td>0.008333</td>\n",
              "      <td>0.008333</td>\n",
              "      <td>0.008333</td>\n",
              "      <td>0.008333</td>\n",
              "      <td>0.008333</td>\n",
              "      <td>0.008333</td>\n",
              "      <td>0.008333</td>\n",
              "      <td>0.008333</td>\n",
              "      <td>0.008333</td>\n",
              "      <td>0.008333</td>\n",
              "      <td>0.008333</td>\n",
              "      <td>0.008333</td>\n",
              "      <td>0.008333</td>\n",
              "      <td>0.008333</td>\n",
              "      <td>0.008333</td>\n",
              "      <td>0.008333</td>\n",
              "      <td>0.008333</td>\n",
              "      <td>0.008333</td>\n",
              "      <td>0.008333</td>\n",
              "      <td>0.008333</td>\n",
              "      <td>0.008333</td>\n",
              "      <td>0.008333</td>\n",
              "      <td>0.008333</td>\n",
              "      <td>0.008333</td>\n",
              "      <td>0.008333</td>\n",
              "      <td>0.008333</td>\n",
              "      <td>0.008333</td>\n",
              "      <td>0.008333</td>\n",
              "      <td>0.008333</td>\n",
              "      <td>0.008333</td>\n",
              "      <td>0.008333</td>\n",
              "      <td>0.008333</td>\n",
              "      <td>0.008333</td>\n",
              "      <td>0.008333</td>\n",
              "      <td>0.008333</td>\n",
              "      <td>0.008333</td>\n",
              "      <td>0.008333</td>\n",
              "      <td>0.008333</td>\n",
              "      <td>0.008333</td>\n",
              "      <td>0.008333</td>\n",
              "      <td>0.008333</td>\n",
              "      <td>0.008333</td>\n",
              "      <td>0.008333</td>\n",
              "      <td>0.008333</td>\n",
              "      <td>0.008333</td>\n",
              "      <td>0.008333</td>\n",
              "      <td>0.008333</td>\n",
              "      <td>0.008333</td>\n",
              "      <td>0.008333</td>\n",
              "      <td>0.008333</td>\n",
              "      <td>0.008333</td>\n",
              "      <td>0.008333</td>\n",
              "      <td>0.008333</td>\n",
              "      <td>0.008333</td>\n",
              "      <td>0.008333</td>\n",
              "      <td>0.008333</td>\n",
              "      <td>0.008333</td>\n",
              "      <td>0.008333</td>\n",
              "      <td>0.008333</td>\n",
              "      <td>0.008333</td>\n",
              "      <td>0.008333</td>\n",
              "      <td>0.008333</td>\n",
              "      <td>0.008333</td>\n",
              "      <td>0.008333</td>\n",
              "      <td>0.008333</td>\n",
              "      <td>0.008333</td>\n",
              "      <td>0.008333</td>\n",
              "      <td>0.008333</td>\n",
              "      <td>0.008333</td>\n",
              "      <td>0.008333</td>\n",
              "      <td>0.008333</td>\n",
              "      <td>0.008333</td>\n",
              "      <td>0.008333</td>\n",
              "      <td>0.008333</td>\n",
              "      <td>0.008333</td>\n",
              "      <td>0.008333</td>\n",
              "      <td>0.008333</td>\n",
              "      <td>0.008333</td>\n",
              "      <td>0.008333</td>\n",
              "      <td>0.008333</td>\n",
              "      <td>0.008333</td>\n",
              "      <td>0.008333</td>\n",
              "    </tr>\n",
              "    <tr>\n",
              "      <th>1</th>\n",
              "      <td>00102ee9d8eb90812350685311fe5890</td>\n",
              "      <td>0.008333</td>\n",
              "      <td>0.008333</td>\n",
              "      <td>0.008333</td>\n",
              "      <td>0.008333</td>\n",
              "      <td>0.008333</td>\n",
              "      <td>0.008333</td>\n",
              "      <td>0.008333</td>\n",
              "      <td>0.008333</td>\n",
              "      <td>0.008333</td>\n",
              "      <td>0.008333</td>\n",
              "      <td>0.008333</td>\n",
              "      <td>0.008333</td>\n",
              "      <td>0.008333</td>\n",
              "      <td>0.008333</td>\n",
              "      <td>0.008333</td>\n",
              "      <td>0.008333</td>\n",
              "      <td>0.008333</td>\n",
              "      <td>0.008333</td>\n",
              "      <td>0.008333</td>\n",
              "      <td>0.008333</td>\n",
              "      <td>0.008333</td>\n",
              "      <td>0.008333</td>\n",
              "      <td>0.008333</td>\n",
              "      <td>0.008333</td>\n",
              "      <td>0.008333</td>\n",
              "      <td>0.008333</td>\n",
              "      <td>0.008333</td>\n",
              "      <td>0.008333</td>\n",
              "      <td>0.008333</td>\n",
              "      <td>0.008333</td>\n",
              "      <td>0.008333</td>\n",
              "      <td>0.008333</td>\n",
              "      <td>0.008333</td>\n",
              "      <td>0.008333</td>\n",
              "      <td>0.008333</td>\n",
              "      <td>0.008333</td>\n",
              "      <td>0.008333</td>\n",
              "      <td>0.008333</td>\n",
              "      <td>0.008333</td>\n",
              "      <td>0.008333</td>\n",
              "      <td>0.008333</td>\n",
              "      <td>0.008333</td>\n",
              "      <td>0.008333</td>\n",
              "      <td>0.008333</td>\n",
              "      <td>0.008333</td>\n",
              "      <td>0.008333</td>\n",
              "      <td>0.008333</td>\n",
              "      <td>0.008333</td>\n",
              "      <td>0.008333</td>\n",
              "      <td>0.008333</td>\n",
              "      <td>0.008333</td>\n",
              "      <td>0.008333</td>\n",
              "      <td>0.008333</td>\n",
              "      <td>0.008333</td>\n",
              "      <td>0.008333</td>\n",
              "      <td>0.008333</td>\n",
              "      <td>0.008333</td>\n",
              "      <td>0.008333</td>\n",
              "      <td>0.008333</td>\n",
              "      <td>0.008333</td>\n",
              "      <td>0.008333</td>\n",
              "      <td>0.008333</td>\n",
              "      <td>0.008333</td>\n",
              "      <td>0.008333</td>\n",
              "      <td>0.008333</td>\n",
              "      <td>0.008333</td>\n",
              "      <td>0.008333</td>\n",
              "      <td>0.008333</td>\n",
              "      <td>0.008333</td>\n",
              "      <td>0.008333</td>\n",
              "      <td>0.008333</td>\n",
              "      <td>0.008333</td>\n",
              "      <td>0.008333</td>\n",
              "      <td>0.008333</td>\n",
              "      <td>0.008333</td>\n",
              "      <td>0.008333</td>\n",
              "      <td>0.008333</td>\n",
              "      <td>0.008333</td>\n",
              "      <td>0.008333</td>\n",
              "      <td>0.008333</td>\n",
              "      <td>0.008333</td>\n",
              "      <td>0.008333</td>\n",
              "      <td>0.008333</td>\n",
              "      <td>0.008333</td>\n",
              "      <td>0.008333</td>\n",
              "      <td>0.008333</td>\n",
              "      <td>0.008333</td>\n",
              "      <td>0.008333</td>\n",
              "      <td>0.008333</td>\n",
              "      <td>0.008333</td>\n",
              "      <td>0.008333</td>\n",
              "      <td>0.008333</td>\n",
              "      <td>0.008333</td>\n",
              "      <td>0.008333</td>\n",
              "      <td>0.008333</td>\n",
              "      <td>0.008333</td>\n",
              "      <td>0.008333</td>\n",
              "      <td>0.008333</td>\n",
              "      <td>0.008333</td>\n",
              "      <td>0.008333</td>\n",
              "      <td>0.008333</td>\n",
              "      <td>0.008333</td>\n",
              "      <td>0.008333</td>\n",
              "      <td>0.008333</td>\n",
              "      <td>0.008333</td>\n",
              "      <td>0.008333</td>\n",
              "      <td>0.008333</td>\n",
              "      <td>0.008333</td>\n",
              "      <td>0.008333</td>\n",
              "      <td>0.008333</td>\n",
              "      <td>0.008333</td>\n",
              "      <td>0.008333</td>\n",
              "      <td>0.008333</td>\n",
              "      <td>0.008333</td>\n",
              "      <td>0.008333</td>\n",
              "      <td>0.008333</td>\n",
              "      <td>0.008333</td>\n",
              "      <td>0.008333</td>\n",
              "      <td>0.008333</td>\n",
              "      <td>0.008333</td>\n",
              "    </tr>\n",
              "    <tr>\n",
              "      <th>2</th>\n",
              "      <td>0012a730dfa437f5f3613fb75efcd4ce</td>\n",
              "      <td>0.008333</td>\n",
              "      <td>0.008333</td>\n",
              "      <td>0.008333</td>\n",
              "      <td>0.008333</td>\n",
              "      <td>0.008333</td>\n",
              "      <td>0.008333</td>\n",
              "      <td>0.008333</td>\n",
              "      <td>0.008333</td>\n",
              "      <td>0.008333</td>\n",
              "      <td>0.008333</td>\n",
              "      <td>0.008333</td>\n",
              "      <td>0.008333</td>\n",
              "      <td>0.008333</td>\n",
              "      <td>0.008333</td>\n",
              "      <td>0.008333</td>\n",
              "      <td>0.008333</td>\n",
              "      <td>0.008333</td>\n",
              "      <td>0.008333</td>\n",
              "      <td>0.008333</td>\n",
              "      <td>0.008333</td>\n",
              "      <td>0.008333</td>\n",
              "      <td>0.008333</td>\n",
              "      <td>0.008333</td>\n",
              "      <td>0.008333</td>\n",
              "      <td>0.008333</td>\n",
              "      <td>0.008333</td>\n",
              "      <td>0.008333</td>\n",
              "      <td>0.008333</td>\n",
              "      <td>0.008333</td>\n",
              "      <td>0.008333</td>\n",
              "      <td>0.008333</td>\n",
              "      <td>0.008333</td>\n",
              "      <td>0.008333</td>\n",
              "      <td>0.008333</td>\n",
              "      <td>0.008333</td>\n",
              "      <td>0.008333</td>\n",
              "      <td>0.008333</td>\n",
              "      <td>0.008333</td>\n",
              "      <td>0.008333</td>\n",
              "      <td>0.008333</td>\n",
              "      <td>0.008333</td>\n",
              "      <td>0.008333</td>\n",
              "      <td>0.008333</td>\n",
              "      <td>0.008333</td>\n",
              "      <td>0.008333</td>\n",
              "      <td>0.008333</td>\n",
              "      <td>0.008333</td>\n",
              "      <td>0.008333</td>\n",
              "      <td>0.008333</td>\n",
              "      <td>0.008333</td>\n",
              "      <td>0.008333</td>\n",
              "      <td>0.008333</td>\n",
              "      <td>0.008333</td>\n",
              "      <td>0.008333</td>\n",
              "      <td>0.008333</td>\n",
              "      <td>0.008333</td>\n",
              "      <td>0.008333</td>\n",
              "      <td>0.008333</td>\n",
              "      <td>0.008333</td>\n",
              "      <td>0.008333</td>\n",
              "      <td>0.008333</td>\n",
              "      <td>0.008333</td>\n",
              "      <td>0.008333</td>\n",
              "      <td>0.008333</td>\n",
              "      <td>0.008333</td>\n",
              "      <td>0.008333</td>\n",
              "      <td>0.008333</td>\n",
              "      <td>0.008333</td>\n",
              "      <td>0.008333</td>\n",
              "      <td>0.008333</td>\n",
              "      <td>0.008333</td>\n",
              "      <td>0.008333</td>\n",
              "      <td>0.008333</td>\n",
              "      <td>0.008333</td>\n",
              "      <td>0.008333</td>\n",
              "      <td>0.008333</td>\n",
              "      <td>0.008333</td>\n",
              "      <td>0.008333</td>\n",
              "      <td>0.008333</td>\n",
              "      <td>0.008333</td>\n",
              "      <td>0.008333</td>\n",
              "      <td>0.008333</td>\n",
              "      <td>0.008333</td>\n",
              "      <td>0.008333</td>\n",
              "      <td>0.008333</td>\n",
              "      <td>0.008333</td>\n",
              "      <td>0.008333</td>\n",
              "      <td>0.008333</td>\n",
              "      <td>0.008333</td>\n",
              "      <td>0.008333</td>\n",
              "      <td>0.008333</td>\n",
              "      <td>0.008333</td>\n",
              "      <td>0.008333</td>\n",
              "      <td>0.008333</td>\n",
              "      <td>0.008333</td>\n",
              "      <td>0.008333</td>\n",
              "      <td>0.008333</td>\n",
              "      <td>0.008333</td>\n",
              "      <td>0.008333</td>\n",
              "      <td>0.008333</td>\n",
              "      <td>0.008333</td>\n",
              "      <td>0.008333</td>\n",
              "      <td>0.008333</td>\n",
              "      <td>0.008333</td>\n",
              "      <td>0.008333</td>\n",
              "      <td>0.008333</td>\n",
              "      <td>0.008333</td>\n",
              "      <td>0.008333</td>\n",
              "      <td>0.008333</td>\n",
              "      <td>0.008333</td>\n",
              "      <td>0.008333</td>\n",
              "      <td>0.008333</td>\n",
              "      <td>0.008333</td>\n",
              "      <td>0.008333</td>\n",
              "      <td>0.008333</td>\n",
              "      <td>0.008333</td>\n",
              "      <td>0.008333</td>\n",
              "      <td>0.008333</td>\n",
              "      <td>0.008333</td>\n",
              "      <td>0.008333</td>\n",
              "    </tr>\n",
              "    <tr>\n",
              "      <th>3</th>\n",
              "      <td>001510bc8570bbeee98c8d80c8a95ec1</td>\n",
              "      <td>0.008333</td>\n",
              "      <td>0.008333</td>\n",
              "      <td>0.008333</td>\n",
              "      <td>0.008333</td>\n",
              "      <td>0.008333</td>\n",
              "      <td>0.008333</td>\n",
              "      <td>0.008333</td>\n",
              "      <td>0.008333</td>\n",
              "      <td>0.008333</td>\n",
              "      <td>0.008333</td>\n",
              "      <td>0.008333</td>\n",
              "      <td>0.008333</td>\n",
              "      <td>0.008333</td>\n",
              "      <td>0.008333</td>\n",
              "      <td>0.008333</td>\n",
              "      <td>0.008333</td>\n",
              "      <td>0.008333</td>\n",
              "      <td>0.008333</td>\n",
              "      <td>0.008333</td>\n",
              "      <td>0.008333</td>\n",
              "      <td>0.008333</td>\n",
              "      <td>0.008333</td>\n",
              "      <td>0.008333</td>\n",
              "      <td>0.008333</td>\n",
              "      <td>0.008333</td>\n",
              "      <td>0.008333</td>\n",
              "      <td>0.008333</td>\n",
              "      <td>0.008333</td>\n",
              "      <td>0.008333</td>\n",
              "      <td>0.008333</td>\n",
              "      <td>0.008333</td>\n",
              "      <td>0.008333</td>\n",
              "      <td>0.008333</td>\n",
              "      <td>0.008333</td>\n",
              "      <td>0.008333</td>\n",
              "      <td>0.008333</td>\n",
              "      <td>0.008333</td>\n",
              "      <td>0.008333</td>\n",
              "      <td>0.008333</td>\n",
              "      <td>0.008333</td>\n",
              "      <td>0.008333</td>\n",
              "      <td>0.008333</td>\n",
              "      <td>0.008333</td>\n",
              "      <td>0.008333</td>\n",
              "      <td>0.008333</td>\n",
              "      <td>0.008333</td>\n",
              "      <td>0.008333</td>\n",
              "      <td>0.008333</td>\n",
              "      <td>0.008333</td>\n",
              "      <td>0.008333</td>\n",
              "      <td>0.008333</td>\n",
              "      <td>0.008333</td>\n",
              "      <td>0.008333</td>\n",
              "      <td>0.008333</td>\n",
              "      <td>0.008333</td>\n",
              "      <td>0.008333</td>\n",
              "      <td>0.008333</td>\n",
              "      <td>0.008333</td>\n",
              "      <td>0.008333</td>\n",
              "      <td>0.008333</td>\n",
              "      <td>0.008333</td>\n",
              "      <td>0.008333</td>\n",
              "      <td>0.008333</td>\n",
              "      <td>0.008333</td>\n",
              "      <td>0.008333</td>\n",
              "      <td>0.008333</td>\n",
              "      <td>0.008333</td>\n",
              "      <td>0.008333</td>\n",
              "      <td>0.008333</td>\n",
              "      <td>0.008333</td>\n",
              "      <td>0.008333</td>\n",
              "      <td>0.008333</td>\n",
              "      <td>0.008333</td>\n",
              "      <td>0.008333</td>\n",
              "      <td>0.008333</td>\n",
              "      <td>0.008333</td>\n",
              "      <td>0.008333</td>\n",
              "      <td>0.008333</td>\n",
              "      <td>0.008333</td>\n",
              "      <td>0.008333</td>\n",
              "      <td>0.008333</td>\n",
              "      <td>0.008333</td>\n",
              "      <td>0.008333</td>\n",
              "      <td>0.008333</td>\n",
              "      <td>0.008333</td>\n",
              "      <td>0.008333</td>\n",
              "      <td>0.008333</td>\n",
              "      <td>0.008333</td>\n",
              "      <td>0.008333</td>\n",
              "      <td>0.008333</td>\n",
              "      <td>0.008333</td>\n",
              "      <td>0.008333</td>\n",
              "      <td>0.008333</td>\n",
              "      <td>0.008333</td>\n",
              "      <td>0.008333</td>\n",
              "      <td>0.008333</td>\n",
              "      <td>0.008333</td>\n",
              "      <td>0.008333</td>\n",
              "      <td>0.008333</td>\n",
              "      <td>0.008333</td>\n",
              "      <td>0.008333</td>\n",
              "      <td>0.008333</td>\n",
              "      <td>0.008333</td>\n",
              "      <td>0.008333</td>\n",
              "      <td>0.008333</td>\n",
              "      <td>0.008333</td>\n",
              "      <td>0.008333</td>\n",
              "      <td>0.008333</td>\n",
              "      <td>0.008333</td>\n",
              "      <td>0.008333</td>\n",
              "      <td>0.008333</td>\n",
              "      <td>0.008333</td>\n",
              "      <td>0.008333</td>\n",
              "      <td>0.008333</td>\n",
              "      <td>0.008333</td>\n",
              "      <td>0.008333</td>\n",
              "      <td>0.008333</td>\n",
              "      <td>0.008333</td>\n",
              "      <td>0.008333</td>\n",
              "      <td>0.008333</td>\n",
              "    </tr>\n",
              "    <tr>\n",
              "      <th>4</th>\n",
              "      <td>001a5f3114548acdefa3d4da05474c2e</td>\n",
              "      <td>0.008333</td>\n",
              "      <td>0.008333</td>\n",
              "      <td>0.008333</td>\n",
              "      <td>0.008333</td>\n",
              "      <td>0.008333</td>\n",
              "      <td>0.008333</td>\n",
              "      <td>0.008333</td>\n",
              "      <td>0.008333</td>\n",
              "      <td>0.008333</td>\n",
              "      <td>0.008333</td>\n",
              "      <td>0.008333</td>\n",
              "      <td>0.008333</td>\n",
              "      <td>0.008333</td>\n",
              "      <td>0.008333</td>\n",
              "      <td>0.008333</td>\n",
              "      <td>0.008333</td>\n",
              "      <td>0.008333</td>\n",
              "      <td>0.008333</td>\n",
              "      <td>0.008333</td>\n",
              "      <td>0.008333</td>\n",
              "      <td>0.008333</td>\n",
              "      <td>0.008333</td>\n",
              "      <td>0.008333</td>\n",
              "      <td>0.008333</td>\n",
              "      <td>0.008333</td>\n",
              "      <td>0.008333</td>\n",
              "      <td>0.008333</td>\n",
              "      <td>0.008333</td>\n",
              "      <td>0.008333</td>\n",
              "      <td>0.008333</td>\n",
              "      <td>0.008333</td>\n",
              "      <td>0.008333</td>\n",
              "      <td>0.008333</td>\n",
              "      <td>0.008333</td>\n",
              "      <td>0.008333</td>\n",
              "      <td>0.008333</td>\n",
              "      <td>0.008333</td>\n",
              "      <td>0.008333</td>\n",
              "      <td>0.008333</td>\n",
              "      <td>0.008333</td>\n",
              "      <td>0.008333</td>\n",
              "      <td>0.008333</td>\n",
              "      <td>0.008333</td>\n",
              "      <td>0.008333</td>\n",
              "      <td>0.008333</td>\n",
              "      <td>0.008333</td>\n",
              "      <td>0.008333</td>\n",
              "      <td>0.008333</td>\n",
              "      <td>0.008333</td>\n",
              "      <td>0.008333</td>\n",
              "      <td>0.008333</td>\n",
              "      <td>0.008333</td>\n",
              "      <td>0.008333</td>\n",
              "      <td>0.008333</td>\n",
              "      <td>0.008333</td>\n",
              "      <td>0.008333</td>\n",
              "      <td>0.008333</td>\n",
              "      <td>0.008333</td>\n",
              "      <td>0.008333</td>\n",
              "      <td>0.008333</td>\n",
              "      <td>0.008333</td>\n",
              "      <td>0.008333</td>\n",
              "      <td>0.008333</td>\n",
              "      <td>0.008333</td>\n",
              "      <td>0.008333</td>\n",
              "      <td>0.008333</td>\n",
              "      <td>0.008333</td>\n",
              "      <td>0.008333</td>\n",
              "      <td>0.008333</td>\n",
              "      <td>0.008333</td>\n",
              "      <td>0.008333</td>\n",
              "      <td>0.008333</td>\n",
              "      <td>0.008333</td>\n",
              "      <td>0.008333</td>\n",
              "      <td>0.008333</td>\n",
              "      <td>0.008333</td>\n",
              "      <td>0.008333</td>\n",
              "      <td>0.008333</td>\n",
              "      <td>0.008333</td>\n",
              "      <td>0.008333</td>\n",
              "      <td>0.008333</td>\n",
              "      <td>0.008333</td>\n",
              "      <td>0.008333</td>\n",
              "      <td>0.008333</td>\n",
              "      <td>0.008333</td>\n",
              "      <td>0.008333</td>\n",
              "      <td>0.008333</td>\n",
              "      <td>0.008333</td>\n",
              "      <td>0.008333</td>\n",
              "      <td>0.008333</td>\n",
              "      <td>0.008333</td>\n",
              "      <td>0.008333</td>\n",
              "      <td>0.008333</td>\n",
              "      <td>0.008333</td>\n",
              "      <td>0.008333</td>\n",
              "      <td>0.008333</td>\n",
              "      <td>0.008333</td>\n",
              "      <td>0.008333</td>\n",
              "      <td>0.008333</td>\n",
              "      <td>0.008333</td>\n",
              "      <td>0.008333</td>\n",
              "      <td>0.008333</td>\n",
              "      <td>0.008333</td>\n",
              "      <td>0.008333</td>\n",
              "      <td>0.008333</td>\n",
              "      <td>0.008333</td>\n",
              "      <td>0.008333</td>\n",
              "      <td>0.008333</td>\n",
              "      <td>0.008333</td>\n",
              "      <td>0.008333</td>\n",
              "      <td>0.008333</td>\n",
              "      <td>0.008333</td>\n",
              "      <td>0.008333</td>\n",
              "      <td>0.008333</td>\n",
              "      <td>0.008333</td>\n",
              "      <td>0.008333</td>\n",
              "      <td>0.008333</td>\n",
              "      <td>0.008333</td>\n",
              "      <td>0.008333</td>\n",
              "      <td>0.008333</td>\n",
              "    </tr>\n",
              "  </tbody>\n",
              "</table>\n",
              "</div>"
            ],
            "text/plain": [
              "                                 id  affenpinscher  afghan_hound  \\\n",
              "0  000621fb3cbb32d8935728e48679680e  0.008333       0.008333       \n",
              "1  00102ee9d8eb90812350685311fe5890  0.008333       0.008333       \n",
              "2  0012a730dfa437f5f3613fb75efcd4ce  0.008333       0.008333       \n",
              "3  001510bc8570bbeee98c8d80c8a95ec1  0.008333       0.008333       \n",
              "4  001a5f3114548acdefa3d4da05474c2e  0.008333       0.008333       \n",
              "\n",
              "   african_hunting_dog  airedale  american_staffordshire_terrier  appenzeller  \\\n",
              "0  0.008333             0.008333  0.008333                        0.008333      \n",
              "1  0.008333             0.008333  0.008333                        0.008333      \n",
              "2  0.008333             0.008333  0.008333                        0.008333      \n",
              "3  0.008333             0.008333  0.008333                        0.008333      \n",
              "4  0.008333             0.008333  0.008333                        0.008333      \n",
              "\n",
              "   australian_terrier   basenji    basset    beagle  bedlington_terrier  \\\n",
              "0  0.008333            0.008333  0.008333  0.008333  0.008333             \n",
              "1  0.008333            0.008333  0.008333  0.008333  0.008333             \n",
              "2  0.008333            0.008333  0.008333  0.008333  0.008333             \n",
              "3  0.008333            0.008333  0.008333  0.008333  0.008333             \n",
              "4  0.008333            0.008333  0.008333  0.008333  0.008333             \n",
              "\n",
              "   bernese_mountain_dog  black-and-tan_coonhound  blenheim_spaniel  \\\n",
              "0  0.008333              0.008333                 0.008333           \n",
              "1  0.008333              0.008333                 0.008333           \n",
              "2  0.008333              0.008333                 0.008333           \n",
              "3  0.008333              0.008333                 0.008333           \n",
              "4  0.008333              0.008333                 0.008333           \n",
              "\n",
              "   bloodhound  bluetick  border_collie  border_terrier    borzoi  boston_bull  \\\n",
              "0  0.008333    0.008333  0.008333       0.008333        0.008333  0.008333      \n",
              "1  0.008333    0.008333  0.008333       0.008333        0.008333  0.008333      \n",
              "2  0.008333    0.008333  0.008333       0.008333        0.008333  0.008333      \n",
              "3  0.008333    0.008333  0.008333       0.008333        0.008333  0.008333      \n",
              "4  0.008333    0.008333  0.008333       0.008333        0.008333  0.008333      \n",
              "\n",
              "   bouvier_des_flandres     boxer  brabancon_griffon    briard  \\\n",
              "0  0.008333              0.008333  0.008333           0.008333   \n",
              "1  0.008333              0.008333  0.008333           0.008333   \n",
              "2  0.008333              0.008333  0.008333           0.008333   \n",
              "3  0.008333              0.008333  0.008333           0.008333   \n",
              "4  0.008333              0.008333  0.008333           0.008333   \n",
              "\n",
              "   brittany_spaniel  bull_mastiff     cairn  cardigan  \\\n",
              "0  0.008333          0.008333      0.008333  0.008333   \n",
              "1  0.008333          0.008333      0.008333  0.008333   \n",
              "2  0.008333          0.008333      0.008333  0.008333   \n",
              "3  0.008333          0.008333      0.008333  0.008333   \n",
              "4  0.008333          0.008333      0.008333  0.008333   \n",
              "\n",
              "   chesapeake_bay_retriever  chihuahua      chow   clumber  cocker_spaniel  \\\n",
              "0  0.008333                  0.008333   0.008333  0.008333  0.008333         \n",
              "1  0.008333                  0.008333   0.008333  0.008333  0.008333         \n",
              "2  0.008333                  0.008333   0.008333  0.008333  0.008333         \n",
              "3  0.008333                  0.008333   0.008333  0.008333  0.008333         \n",
              "4  0.008333                  0.008333   0.008333  0.008333  0.008333         \n",
              "\n",
              "     collie  curly-coated_retriever  dandie_dinmont     dhole     dingo  \\\n",
              "0  0.008333  0.008333                0.008333        0.008333  0.008333   \n",
              "1  0.008333  0.008333                0.008333        0.008333  0.008333   \n",
              "2  0.008333  0.008333                0.008333        0.008333  0.008333   \n",
              "3  0.008333  0.008333                0.008333        0.008333  0.008333   \n",
              "4  0.008333  0.008333                0.008333        0.008333  0.008333   \n",
              "\n",
              "   doberman  english_foxhound  english_setter  english_springer  entlebucher  \\\n",
              "0  0.008333  0.008333          0.008333        0.008333          0.008333      \n",
              "1  0.008333  0.008333          0.008333        0.008333          0.008333      \n",
              "2  0.008333  0.008333          0.008333        0.008333          0.008333      \n",
              "3  0.008333  0.008333          0.008333        0.008333          0.008333      \n",
              "4  0.008333  0.008333          0.008333        0.008333          0.008333      \n",
              "\n",
              "   eskimo_dog  flat-coated_retriever  french_bulldog  german_shepherd  \\\n",
              "0  0.008333    0.008333               0.008333        0.008333          \n",
              "1  0.008333    0.008333               0.008333        0.008333          \n",
              "2  0.008333    0.008333               0.008333        0.008333          \n",
              "3  0.008333    0.008333               0.008333        0.008333          \n",
              "4  0.008333    0.008333               0.008333        0.008333          \n",
              "\n",
              "   german_short-haired_pointer  giant_schnauzer  golden_retriever  \\\n",
              "0  0.008333                     0.008333         0.008333           \n",
              "1  0.008333                     0.008333         0.008333           \n",
              "2  0.008333                     0.008333         0.008333           \n",
              "3  0.008333                     0.008333         0.008333           \n",
              "4  0.008333                     0.008333         0.008333           \n",
              "\n",
              "   gordon_setter  great_dane  great_pyrenees  greater_swiss_mountain_dog  \\\n",
              "0  0.008333       0.008333    0.008333        0.008333                     \n",
              "1  0.008333       0.008333    0.008333        0.008333                     \n",
              "2  0.008333       0.008333    0.008333        0.008333                     \n",
              "3  0.008333       0.008333    0.008333        0.008333                     \n",
              "4  0.008333       0.008333    0.008333        0.008333                     \n",
              "\n",
              "   groenendael  ibizan_hound  irish_setter  irish_terrier  \\\n",
              "0  0.008333     0.008333      0.008333      0.008333        \n",
              "1  0.008333     0.008333      0.008333      0.008333        \n",
              "2  0.008333     0.008333      0.008333      0.008333        \n",
              "3  0.008333     0.008333      0.008333      0.008333        \n",
              "4  0.008333     0.008333      0.008333      0.008333        \n",
              "\n",
              "   irish_water_spaniel  irish_wolfhound  italian_greyhound  japanese_spaniel  \\\n",
              "0  0.008333             0.008333         0.008333           0.008333           \n",
              "1  0.008333             0.008333         0.008333           0.008333           \n",
              "2  0.008333             0.008333         0.008333           0.008333           \n",
              "3  0.008333             0.008333         0.008333           0.008333           \n",
              "4  0.008333             0.008333         0.008333           0.008333           \n",
              "\n",
              "   keeshond    kelpie  kerry_blue_terrier  komondor    kuvasz  \\\n",
              "0  0.008333  0.008333  0.008333            0.008333  0.008333   \n",
              "1  0.008333  0.008333  0.008333            0.008333  0.008333   \n",
              "2  0.008333  0.008333  0.008333            0.008333  0.008333   \n",
              "3  0.008333  0.008333  0.008333            0.008333  0.008333   \n",
              "4  0.008333  0.008333  0.008333            0.008333  0.008333   \n",
              "\n",
              "   labrador_retriever  lakeland_terrier  leonberg     lhasa  malamute  \\\n",
              "0  0.008333            0.008333          0.008333  0.008333  0.008333   \n",
              "1  0.008333            0.008333          0.008333  0.008333  0.008333   \n",
              "2  0.008333            0.008333          0.008333  0.008333  0.008333   \n",
              "3  0.008333            0.008333          0.008333  0.008333  0.008333   \n",
              "4  0.008333            0.008333          0.008333  0.008333  0.008333   \n",
              "\n",
              "   malinois  maltese_dog  mexican_hairless  miniature_pinscher  \\\n",
              "0  0.008333  0.008333     0.008333          0.008333             \n",
              "1  0.008333  0.008333     0.008333          0.008333             \n",
              "2  0.008333  0.008333     0.008333          0.008333             \n",
              "3  0.008333  0.008333     0.008333          0.008333             \n",
              "4  0.008333  0.008333     0.008333          0.008333             \n",
              "\n",
              "   miniature_poodle  miniature_schnauzer  newfoundland  norfolk_terrier  \\\n",
              "0  0.008333          0.008333             0.008333      0.008333          \n",
              "1  0.008333          0.008333             0.008333      0.008333          \n",
              "2  0.008333          0.008333             0.008333      0.008333          \n",
              "3  0.008333          0.008333             0.008333      0.008333          \n",
              "4  0.008333          0.008333             0.008333      0.008333          \n",
              "\n",
              "   norwegian_elkhound  norwich_terrier  old_english_sheepdog  otterhound  \\\n",
              "0  0.008333            0.008333         0.008333              0.008333     \n",
              "1  0.008333            0.008333         0.008333              0.008333     \n",
              "2  0.008333            0.008333         0.008333              0.008333     \n",
              "3  0.008333            0.008333         0.008333              0.008333     \n",
              "4  0.008333            0.008333         0.008333              0.008333     \n",
              "\n",
              "   papillon  pekinese  pembroke  pomeranian       pug   redbone  \\\n",
              "0  0.008333  0.008333  0.008333  0.008333    0.008333  0.008333   \n",
              "1  0.008333  0.008333  0.008333  0.008333    0.008333  0.008333   \n",
              "2  0.008333  0.008333  0.008333  0.008333    0.008333  0.008333   \n",
              "3  0.008333  0.008333  0.008333  0.008333    0.008333  0.008333   \n",
              "4  0.008333  0.008333  0.008333  0.008333    0.008333  0.008333   \n",
              "\n",
              "   rhodesian_ridgeback  rottweiler  saint_bernard    saluki   samoyed  \\\n",
              "0  0.008333             0.008333    0.008333       0.008333  0.008333   \n",
              "1  0.008333             0.008333    0.008333       0.008333  0.008333   \n",
              "2  0.008333             0.008333    0.008333       0.008333  0.008333   \n",
              "3  0.008333             0.008333    0.008333       0.008333  0.008333   \n",
              "4  0.008333             0.008333    0.008333       0.008333  0.008333   \n",
              "\n",
              "   schipperke  scotch_terrier  scottish_deerhound  sealyham_terrier  \\\n",
              "0  0.008333    0.008333        0.008333            0.008333           \n",
              "1  0.008333    0.008333        0.008333            0.008333           \n",
              "2  0.008333    0.008333        0.008333            0.008333           \n",
              "3  0.008333    0.008333        0.008333            0.008333           \n",
              "4  0.008333    0.008333        0.008333            0.008333           \n",
              "\n",
              "   shetland_sheepdog  shih-tzu  siberian_husky  silky_terrier  \\\n",
              "0  0.008333           0.008333  0.008333        0.008333        \n",
              "1  0.008333           0.008333  0.008333        0.008333        \n",
              "2  0.008333           0.008333  0.008333        0.008333        \n",
              "3  0.008333           0.008333  0.008333        0.008333        \n",
              "4  0.008333           0.008333  0.008333        0.008333        \n",
              "\n",
              "   soft-coated_wheaten_terrier  staffordshire_bullterrier  standard_poodle  \\\n",
              "0  0.008333                     0.008333                   0.008333          \n",
              "1  0.008333                     0.008333                   0.008333          \n",
              "2  0.008333                     0.008333                   0.008333          \n",
              "3  0.008333                     0.008333                   0.008333          \n",
              "4  0.008333                     0.008333                   0.008333          \n",
              "\n",
              "   standard_schnauzer  sussex_spaniel  tibetan_mastiff  tibetan_terrier  \\\n",
              "0  0.008333            0.008333        0.008333         0.008333          \n",
              "1  0.008333            0.008333        0.008333         0.008333          \n",
              "2  0.008333            0.008333        0.008333         0.008333          \n",
              "3  0.008333            0.008333        0.008333         0.008333          \n",
              "4  0.008333            0.008333        0.008333         0.008333          \n",
              "\n",
              "   toy_poodle  toy_terrier    vizsla  walker_hound  weimaraner  \\\n",
              "0  0.008333    0.008333     0.008333  0.008333      0.008333     \n",
              "1  0.008333    0.008333     0.008333  0.008333      0.008333     \n",
              "2  0.008333    0.008333     0.008333  0.008333      0.008333     \n",
              "3  0.008333    0.008333     0.008333  0.008333      0.008333     \n",
              "4  0.008333    0.008333     0.008333  0.008333      0.008333     \n",
              "\n",
              "   welsh_springer_spaniel  west_highland_white_terrier   whippet  \\\n",
              "0  0.008333                0.008333                     0.008333   \n",
              "1  0.008333                0.008333                     0.008333   \n",
              "2  0.008333                0.008333                     0.008333   \n",
              "3  0.008333                0.008333                     0.008333   \n",
              "4  0.008333                0.008333                     0.008333   \n",
              "\n",
              "   wire-haired_fox_terrier  yorkshire_terrier  \n",
              "0  0.008333                 0.008333           \n",
              "1  0.008333                 0.008333           \n",
              "2  0.008333                 0.008333           \n",
              "3  0.008333                 0.008333           \n",
              "4  0.008333                 0.008333           "
            ]
          },
          "metadata": {
            "tags": []
          },
          "execution_count": 37
        }
      ]
    },
    {
      "cell_type": "code",
      "metadata": {
        "id": "dTE-VC2xe3-q",
        "colab_type": "code",
        "colab": {}
      },
      "source": [
        "test_img = df_SampleSubmission.id"
      ],
      "execution_count": 0,
      "outputs": []
    },
    {
      "cell_type": "markdown",
      "metadata": {
        "id": "wOzwEfZQNBS0",
        "colab_type": "text"
      },
      "source": [
        "Run the below code to load the test image files in x_test_feature"
      ]
    },
    {
      "cell_type": "code",
      "metadata": {
        "id": "Ln5vp475QdSU",
        "colab_type": "code",
        "outputId": "5c7e8581-d1eb-4225-9173-2007940a77db",
        "colab": {
          "base_uri": "https://localhost:8080/",
          "height": 35
        }
      },
      "source": [
        "x_test_feature = []\n",
        "i = 0 # initialisation\n",
        "for f in tqdm(test_img.values): # f for format ,jpg\n",
        "    img = cv2.imread('./test/{}.jpg'.format(f), 1)\n",
        "    img_resize = cv2.resize(img, (img_rows, img_cols)) \n",
        "    x_test_feature.append(img_resize)"
      ],
      "execution_count": 39,
      "outputs": [
        {
          "output_type": "stream",
          "text": [
            "100%|██████████| 10357/10357 [00:28<00:00, 367.64it/s]\n"
          ],
          "name": "stderr"
        }
      ]
    },
    {
      "cell_type": "code",
      "metadata": {
        "id": "VDiLgW4vZSHF",
        "colab_type": "code",
        "outputId": "9a0b5fca-c275-4803-e22f-6ca8c25253c6",
        "colab": {
          "base_uri": "https://localhost:8080/",
          "height": 286
        }
      },
      "source": [
        "import matplotlib.pyplot as plt\n",
        "plt.imshow(x_test_feature[28])"
      ],
      "execution_count": 40,
      "outputs": [
        {
          "output_type": "execute_result",
          "data": {
            "text/plain": [
              "<matplotlib.image.AxesImage at 0x7f978ad6bd68>"
            ]
          },
          "metadata": {
            "tags": []
          },
          "execution_count": 40
        },
        {
          "output_type": "display_data",
          "data": {
            "image/png": "[encoded data removed]",
            "text/plain": [
              "<Figure size 432x288 with 1 Axes>"
            ]
          },
          "metadata": {
            "tags": [],
            "needs_background": "light"
          }
        }
      ]
    },
    {
      "cell_type": "code",
      "metadata": {
        "id": "vDBPDDjATpdS",
        "colab_type": "code",
        "outputId": "48eef8f1-14b3-47a4-f9e8-c0924f0122e3",
        "colab": {
          "base_uri": "https://localhost:8080/",
          "height": 54
        }
      },
      "source": [
        "x_test_feature = array(x_test_feature)\n",
        "print(len(x_test_feature))\n",
        "print(x_test_feature[0].shape)"
      ],
      "execution_count": 41,
      "outputs": [
        {
          "output_type": "stream",
          "text": [
            "10357\n",
            "(128, 128, 3)\n"
          ],
          "name": "stdout"
        }
      ]
    },
    {
      "cell_type": "code",
      "metadata": {
        "id": "zdb43X07i22s",
        "colab_type": "code",
        "outputId": "09df160a-520b-4013-a37d-695937a985b0",
        "colab": {
          "base_uri": "https://localhost:8080/",
          "height": 35
        }
      },
      "source": [
        "x_test_feature.shape"
      ],
      "execution_count": 42,
      "outputs": [
        {
          "output_type": "execute_result",
          "data": {
            "text/plain": [
              "(10357, 128, 128, 3)"
            ]
          },
          "metadata": {
            "tags": []
          },
          "execution_count": 42
        }
      ]
    },
    {
      "cell_type": "markdown",
      "metadata": {
        "id": "Qy1_twmsPo-f",
        "colab_type": "text"
      },
      "source": [
        "Normalize the test data and convert it into 4 dimensions"
      ]
    },
    {
      "cell_type": "code",
      "metadata": {
        "id": "oGq33mluPofI",
        "colab_type": "code",
        "outputId": "a728308f-d70e-4921-a14b-93c9482bee1c",
        "colab": {
          "base_uri": "https://localhost:8080/",
          "height": 90
        }
      },
      "source": [
        "# pixel normalization\n",
        "from numpy import asarray\n",
        "x_test_feature = asarray(x_test_feature)\n",
        "# confirm pixel range is 0-255\n",
        "print('Data Type: %s' % x_test_feature.dtype)\n",
        "print('Min: %.3f, Max: %.3f' % (x_test_feature.min(), x_test_feature.max()))\n",
        "# convert from integers to floats\n",
        "x_test_feature = x_test_feature.astype('float32')\n",
        "# normalize to the range 0-1\n",
        "x_test_feature /= 255.0\n",
        "# confirm the normalization\n",
        "print('Min: %.3f, Max: %.3f' % (x_test_feature.min(), x_test_feature.max()))\n",
        "print('test data shape:',x_test_feature.shape)"
      ],
      "execution_count": 43,
      "outputs": [
        {
          "output_type": "stream",
          "text": [
            "Data Type: uint8\n",
            "Min: 0.000, Max: 255.000\n",
            "Min: 0.000, Max: 1.000\n",
            "test data shape: (10357, 128, 128, 3)\n"
          ],
          "name": "stdout"
        }
      ]
    },
    {
      "cell_type": "code",
      "metadata": {
        "id": "4b4uq5X6T16m",
        "colab_type": "code",
        "outputId": "74b064af-bb2f-47db-a57b-4db65010d8ee",
        "colab": {
          "base_uri": "https://localhost:8080/",
          "height": 35
        }
      },
      "source": [
        "#x_test_feature = np.reshape(x_test_feature, (10357,128,128,1))\n",
        "print('test data shape:',x_test_feature.shape)"
      ],
      "execution_count": 44,
      "outputs": [
        {
          "output_type": "stream",
          "text": [
            "test data shape: (10357, 128, 128, 3)\n"
          ],
          "name": "stdout"
        }
      ]
    },
    {
      "cell_type": "markdown",
      "metadata": {
        "id": "ruBuNpagZqhs",
        "colab_type": "text"
      },
      "source": [
        "### Build a basic conv neural network with 2 conv layers (kernel sizes - 5 and 3) add layers as mentioned below for classification.\n",
        "\n",
        "1. Add a Dense layer with 256 neurons with `relu` activation\n",
        "\n",
        "2. Add a Dense layer with 120 neurons as final layer (as there are 120 classes in the given dataset) with `softmax` activation for classifiaction. "
      ]
    },
    {
      "cell_type": "code",
      "metadata": {
        "id": "xarTMMcPVkgz",
        "colab_type": "code",
        "outputId": "23d7231b-22b7-4afb-942b-4ada42e8821a",
        "colab": {
          "base_uri": "https://localhost:8080/",
          "height": 54
        }
      },
      "source": [
        "%tensorflow_version 1.x\n",
        "import tensorflow as tf\n",
        "print(tf.__version__)\n",
        "#!pip install tensorflow==1.15.2"
      ],
      "execution_count": 45,
      "outputs": [
        {
          "output_type": "stream",
          "text": [
            "TensorFlow 1.x selected.\n",
            "1.15.2\n"
          ],
          "name": "stdout"
        }
      ]
    },
    {
      "cell_type": "code",
      "metadata": {
        "id": "6z2CqapQsCWf",
        "colab_type": "code",
        "outputId": "d0d63898-6928-4438-ec28-a103a199724d",
        "colab": {
          "base_uri": "https://localhost:8080/",
          "height": 692
        }
      },
      "source": [
        "from keras.layers import Conv2D, MaxPooling2D, GlobalAveragePooling2D\n",
        "from keras.layers import Dropout, Flatten, Dense, Activation\n",
        "from keras.models import Sequential\n",
        "from keras.layers.normalization import BatchNormalization\n",
        "\n",
        "model = Sequential()\n",
        "model.add(BatchNormalization(input_shape=(128, 128, 3)))\n",
        "model.add(Conv2D(filters=128, kernel_size=5, kernel_initializer='he_normal', activation='relu'))\n",
        "model.add(MaxPooling2D(pool_size=2))\n",
        "model.add(BatchNormalization())\n",
        "\n",
        "model.add(Conv2D(filters=256, kernel_size=3, kernel_initializer='he_normal', activation='relu'))\n",
        "model.add(MaxPooling2D(pool_size=2))\n",
        "model.add(BatchNormalization())\n",
        "\n",
        "model.add(GlobalAveragePooling2D())\n",
        "\n",
        "model.add(Dense(256, activation='relu'))\n",
        "#Apply Dropout with 0.25 probability \n",
        "model.add(Dropout(0.25))\n",
        "model.add(Dense(120, activation='softmax'))\n",
        "\n",
        "model.summary()"
      ],
      "execution_count": 46,
      "outputs": [
        {
          "output_type": "stream",
          "text": [
            "WARNING:tensorflow:From /tensorflow-1.15.2/python3.6/tensorflow_core/python/ops/resource_variable_ops.py:1630: calling BaseResourceVariable.__init__ (from tensorflow.python.ops.resource_variable_ops) with constraint is deprecated and will be removed in a future version.\n",
            "Instructions for updating:\n",
            "If using Keras pass *_constraint arguments to layers.\n"
          ],
          "name": "stdout"
        },
        {
          "output_type": "stream",
          "text": [
            "Using TensorFlow backend.\n"
          ],
          "name": "stderr"
        },
        {
          "output_type": "stream",
          "text": [
            "WARNING:tensorflow:From /usr/local/lib/python3.6/dist-packages/keras/backend/tensorflow_backend.py:4070: The name tf.nn.max_pool is deprecated. Please use tf.nn.max_pool2d instead.\n",
            "\n",
            "Model: \"sequential_1\"\n",
            "_________________________________________________________________\n",
            "Layer (type)                 Output Shape              Param #   \n",
            "=================================================================\n",
            "batch_normalization_1 (Batch (None, 128, 128, 3)       12        \n",
            "_________________________________________________________________\n",
            "conv2d_1 (Conv2D)            (None, 124, 124, 128)     9728      \n",
            "_________________________________________________________________\n",
            "max_pooling2d_1 (MaxPooling2 (None, 62, 62, 128)       0         \n",
            "_________________________________________________________________\n",
            "batch_normalization_2 (Batch (None, 62, 62, 128)       512       \n",
            "_________________________________________________________________\n",
            "conv2d_2 (Conv2D)            (None, 60, 60, 256)       295168    \n",
            "_________________________________________________________________\n",
            "max_pooling2d_2 (MaxPooling2 (None, 30, 30, 256)       0         \n",
            "_________________________________________________________________\n",
            "batch_normalization_3 (Batch (None, 30, 30, 256)       1024      \n",
            "_________________________________________________________________\n",
            "global_average_pooling2d_1 ( (None, 256)               0         \n",
            "_________________________________________________________________\n",
            "dense_1 (Dense)              (None, 256)               65792     \n",
            "_________________________________________________________________\n",
            "dropout_1 (Dropout)          (None, 256)               0         \n",
            "_________________________________________________________________\n",
            "dense_2 (Dense)              (None, 120)               30840     \n",
            "=================================================================\n",
            "Total params: 403,076\n",
            "Trainable params: 402,302\n",
            "Non-trainable params: 774\n",
            "_________________________________________________________________\n"
          ],
          "name": "stdout"
        }
      ]
    },
    {
      "cell_type": "markdown",
      "metadata": {
        "id": "gxE5fy72Plc9",
        "colab_type": "text"
      },
      "source": [
        "# Use batch_size = 128 and epochs = 10 and execute the model"
      ]
    },
    {
      "cell_type": "code",
      "metadata": {
        "id": "yN6NpIfTLJkP",
        "colab_type": "code",
        "colab": {}
      },
      "source": [
        "epochs = 10\n",
        "batch_size = 128"
      ],
      "execution_count": 0,
      "outputs": []
    },
    {
      "cell_type": "code",
      "metadata": {
        "id": "6vshup-BQ51m",
        "colab_type": "code",
        "colab": {}
      },
      "source": [
        "#compile the model\n",
        "#stochastic gradient descent -Adam -optimizer\n",
        "#loss func categorical cross entropy\n",
        "#metrics = accuracy\n",
        "model.compile(optimizer='adam', loss='categorical_crossentropy', metrics=['accuracy'])"
      ],
      "execution_count": 0,
      "outputs": []
    },
    {
      "cell_type": "code",
      "metadata": {
        "id": "bzHzjPONjGpL",
        "colab_type": "code",
        "outputId": "b5ee67fb-d8e0-448c-d2aa-134f64ef0bf4",
        "colab": {
          "base_uri": "https://localhost:8080/",
          "height": 90
        }
      },
      "source": [
        "print(X_train.shape)\n",
        "print(y_train.shape)\n",
        "print(X_val.shape)\n",
        "print(y_val.shape)"
      ],
      "execution_count": 49,
      "outputs": [
        {
          "output_type": "stream",
          "text": [
            "(7155, 128, 128, 3)\n",
            "(7155, 120)\n",
            "(3067, 128, 128, 3)\n",
            "(3067, 120)\n"
          ],
          "name": "stdout"
        }
      ]
    },
    {
      "cell_type": "code",
      "metadata": {
        "id": "zTSuPu4YQ5zk",
        "colab_type": "code",
        "colab": {}
      },
      "source": [
        "from keras.callbacks import ModelCheckpoint\n",
        "checkpointer = ModelCheckpoint(filepath= project_path+'/weights.best_from_scratch.hdf5', \n",
        "                               verbose=1, save_best_only=True)\n",
        "\n"
      ],
      "execution_count": 0,
      "outputs": []
    },
    {
      "cell_type": "code",
      "metadata": {
        "id": "UANuKGr2t8F4",
        "colab_type": "code",
        "colab": {
          "base_uri": "https://localhost:8080/",
          "height": 837
        },
        "outputId": "978b2467-431c-4ea6-f49b-5acdae1ece68"
      },
      "source": [
        "model.fit(X_train, y_train, validation_split = 0.20, epochs= epochs, batch_size= batch_size,callbacks = [checkpointer], verbose=1)"
      ],
      "execution_count": 51,
      "outputs": [
        {
          "output_type": "stream",
          "text": [
            "WARNING:tensorflow:From /usr/local/lib/python3.6/dist-packages/keras/backend/tensorflow_backend.py:422: The name tf.global_variables is deprecated. Please use tf.compat.v1.global_variables instead.\n",
            "\n",
            "Train on 5724 samples, validate on 1431 samples\n",
            "Epoch 1/10\n",
            "5724/5724 [==============================] - 25s 4ms/step - loss: 4.7931 - accuracy: 0.0159 - val_loss: 4.8093 - val_accuracy: 0.0112\n",
            "\n",
            "Epoch 00001: val_loss improved from inf to 4.80926, saving model to /content/drive/My Drive/Paridhi_Colab/CNN_Project/Data/weights.best_from_scratch.hdf5\n",
            "Epoch 2/10\n",
            "5724/5724 [==============================] - 13s 2ms/step - loss: 4.6564 - accuracy: 0.0271 - val_loss: 4.8129 - val_accuracy: 0.0133\n",
            "\n",
            "Epoch 00002: val_loss did not improve from 4.80926\n",
            "Epoch 3/10\n",
            "5724/5724 [==============================] - 13s 2ms/step - loss: 4.5900 - accuracy: 0.0327 - val_loss: 4.8438 - val_accuracy: 0.0189\n",
            "\n",
            "Epoch 00003: val_loss did not improve from 4.80926\n",
            "Epoch 4/10\n",
            "5724/5724 [==============================] - 13s 2ms/step - loss: 4.5349 - accuracy: 0.0395 - val_loss: 4.8299 - val_accuracy: 0.0175\n",
            "\n",
            "Epoch 00004: val_loss did not improve from 4.80926\n",
            "Epoch 5/10\n",
            "5724/5724 [==============================] - 13s 2ms/step - loss: 4.4759 - accuracy: 0.0479 - val_loss: 4.7897 - val_accuracy: 0.0210\n",
            "\n",
            "Epoch 00005: val_loss improved from 4.80926 to 4.78969, saving model to /content/drive/My Drive/Paridhi_Colab/CNN_Project/Data/weights.best_from_scratch.hdf5\n",
            "Epoch 6/10\n",
            "5724/5724 [==============================] - 13s 2ms/step - loss: 4.4326 - accuracy: 0.0507 - val_loss: 4.7147 - val_accuracy: 0.0245\n",
            "\n",
            "Epoch 00006: val_loss improved from 4.78969 to 4.71467, saving model to /content/drive/My Drive/Paridhi_Colab/CNN_Project/Data/weights.best_from_scratch.hdf5\n",
            "Epoch 7/10\n",
            "5724/5724 [==============================] - 13s 2ms/step - loss: 4.3800 - accuracy: 0.0564 - val_loss: 4.6673 - val_accuracy: 0.0307\n",
            "\n",
            "Epoch 00007: val_loss improved from 4.71467 to 4.66728, saving model to /content/drive/My Drive/Paridhi_Colab/CNN_Project/Data/weights.best_from_scratch.hdf5\n",
            "Epoch 8/10\n",
            "5724/5724 [==============================] - 13s 2ms/step - loss: 4.3298 - accuracy: 0.0606 - val_loss: 4.6060 - val_accuracy: 0.0307\n",
            "\n",
            "Epoch 00008: val_loss improved from 4.66728 to 4.60599, saving model to /content/drive/My Drive/Paridhi_Colab/CNN_Project/Data/weights.best_from_scratch.hdf5\n",
            "Epoch 9/10\n",
            "5724/5724 [==============================] - 13s 2ms/step - loss: 4.2821 - accuracy: 0.0701 - val_loss: 4.5460 - val_accuracy: 0.0440\n",
            "\n",
            "Epoch 00009: val_loss improved from 4.60599 to 4.54605, saving model to /content/drive/My Drive/Paridhi_Colab/CNN_Project/Data/weights.best_from_scratch.hdf5\n",
            "Epoch 10/10\n",
            "5724/5724 [==============================] - 13s 2ms/step - loss: 4.2176 - accuracy: 0.0755 - val_loss: 4.5235 - val_accuracy: 0.0440\n",
            "\n",
            "Epoch 00010: val_loss improved from 4.54605 to 4.52351, saving model to /content/drive/My Drive/Paridhi_Colab/CNN_Project/Data/weights.best_from_scratch.hdf5\n"
          ],
          "name": "stdout"
        },
        {
          "output_type": "execute_result",
          "data": {
            "text/plain": [
              "<keras.callbacks.callbacks.History at 0x7f96ede91898>"
            ]
          },
          "metadata": {
            "tags": []
          },
          "execution_count": 51
        }
      ]
    },
    {
      "cell_type": "code",
      "metadata": {
        "id": "35xGHB8it--U",
        "colab_type": "code",
        "colab": {}
      },
      "source": [
        "#scores = model.evaluate(X_val, y_val, verbose=1)\n",
        "#print(\"%s: %.2f%%\" % (model.metrics_names[1], scores[1]*100))         "
      ],
      "execution_count": 0,
      "outputs": []
    },
    {
      "cell_type": "markdown",
      "metadata": {
        "id": "d029Nht963PY",
        "colab_type": "text"
      },
      "source": [
        "#The model accuracy is very poor !!!!"
      ]
    },
    {
      "cell_type": "markdown",
      "metadata": {
        "id": "S711dCEN7DF1",
        "colab_type": "text"
      },
      "source": [
        "Use Data Augmentation in the above model to see if the accuracy improves"
      ]
    },
    {
      "cell_type": "code",
      "metadata": {
        "id": "dp_aHqy9aI9w",
        "colab_type": "code",
        "colab": {}
      },
      "source": [
        "from keras.preprocessing.image import ImageDataGenerator\n",
        "train_datagen  = ImageDataGenerator(width_shift_range= 0.1,height_shift_range=0.1,horizontal_flip=True)\n",
        "\n",
        "val_datagen  = ImageDataGenerator(width_shift_range= 0.1,height_shift_range=0.1,horizontal_flip=True)"
      ],
      "execution_count": 0,
      "outputs": []
    },
    {
      "cell_type": "markdown",
      "metadata": {
        "id": "0HBD1DZlALU0",
        "colab_type": "text"
      },
      "source": [
        "### Using the above objects, create the image generators with variable names `train_generator` and `val_generator`\n",
        "\n",
        "You need to use train_datagen.flow() and val_datagen.flow()"
      ]
    },
    {
      "cell_type": "markdown",
      "metadata": {
        "id": "H2D1u5XcN_9J",
        "colab_type": "text"
      },
      "source": [
        ""
      ]
    },
    {
      "cell_type": "code",
      "metadata": {
        "id": "k5YxHcP77LfU",
        "colab_type": "code",
        "colab": {}
      },
      "source": [
        "train_generator = train_datagen.flow(X_train,y_train,batch_size = 128)"
      ],
      "execution_count": 0,
      "outputs": []
    },
    {
      "cell_type": "code",
      "metadata": {
        "id": "l_DSvJPK7LjM",
        "colab_type": "code",
        "colab": {}
      },
      "source": [
        "val_generator = val_datagen.flow(X_val,y_val, batch_size=128)\n"
      ],
      "execution_count": 0,
      "outputs": []
    },
    {
      "cell_type": "markdown",
      "metadata": {
        "id": "TcJGKHKuQHDr",
        "colab_type": "text"
      },
      "source": [
        "### Fit the model using fit_generator() using `train_generator` and `val_generator` from the above step with 10 epochs\n"
      ]
    },
    {
      "cell_type": "code",
      "metadata": {
        "id": "gTQvsfBYq_-L",
        "colab_type": "code",
        "outputId": "c1807e3f-3156-43a0-e085-a81c55d2e158",
        "colab": {
          "base_uri": "https://localhost:8080/",
          "height": 35
        }
      },
      "source": [
        "%tensorflow_version 1.x\n",
        "#import tensorflow as tf\n",
        "print(tf.__version__)\n",
        "#!pip install tensorflow==1.15.2"
      ],
      "execution_count": 56,
      "outputs": [
        {
          "output_type": "stream",
          "text": [
            "1.15.2\n"
          ],
          "name": "stdout"
        }
      ]
    },
    {
      "cell_type": "code",
      "metadata": {
        "id": "LyTu6i9ylU7K",
        "colab_type": "code",
        "colab": {}
      },
      "source": [
        "model.load_weights('/content/drive/My Drive/Paridhi_Colab/CNN_Project/Data/weights.best_from_scratch.hdf5')"
      ],
      "execution_count": 0,
      "outputs": []
    },
    {
      "cell_type": "code",
      "metadata": {
        "id": "8zG9otXCxFKi",
        "colab_type": "code",
        "colab": {
          "base_uri": "https://localhost:8080/",
          "height": 978
        },
        "outputId": "29fc26c4-ad37-42b2-aa38-ab8935d4636f"
      },
      "source": [
        "model.fit_generator(\n",
        "        train_generator,\n",
        "        #steps_per_epoch= X_train.shape[0] - taking these steps was giving very good accuracy but RAM gets full.\n",
        "        steps_per_epoch= 500,\n",
        "        epochs=10,\n",
        "        validation_data = val_generator,\n",
        "        callbacks=[checkpointer], verbose=1 )"
      ],
      "execution_count": 59,
      "outputs": [
        {
          "output_type": "stream",
          "text": [
            "Epoch 1/10\n",
            "500/500 [==============================] - 264s 528ms/step - loss: 2.0126 - accuracy: 0.4590 - val_loss: 4.4174 - val_accuracy: 0.1666\n",
            "\n",
            "Epoch 00001: val_loss improved from 4.52351 to 4.41738, saving model to /content/drive/My Drive/Paridhi_Colab/CNN_Project/Data/weights.best_from_scratch.hdf5\n",
            "Epoch 2/10\n",
            "500/500 [==============================] - 264s 528ms/step - loss: 1.8132 - accuracy: 0.5044 - val_loss: 3.7843 - val_accuracy: 0.1673\n",
            "\n",
            "Epoch 00002: val_loss improved from 4.41738 to 3.78426, saving model to /content/drive/My Drive/Paridhi_Colab/CNN_Project/Data/weights.best_from_scratch.hdf5\n",
            "Epoch 3/10\n",
            "500/500 [==============================] - 264s 528ms/step - loss: 1.6251 - accuracy: 0.5480 - val_loss: 4.3099 - val_accuracy: 0.1673\n",
            "\n",
            "Epoch 00003: val_loss did not improve from 3.78426\n",
            "Epoch 4/10\n",
            "500/500 [==============================] - 262s 524ms/step - loss: 1.4610 - accuracy: 0.5870 - val_loss: 4.3627 - val_accuracy: 0.1692\n",
            "\n",
            "Epoch 00004: val_loss did not improve from 3.78426\n",
            "Epoch 5/10\n",
            "500/500 [==============================] - 262s 523ms/step - loss: 1.3161 - accuracy: 0.6248 - val_loss: 5.0468 - val_accuracy: 0.1666\n",
            "\n",
            "Epoch 00005: val_loss did not improve from 3.78426\n",
            "Epoch 6/10\n",
            "500/500 [==============================] - 261s 522ms/step - loss: 1.1906 - accuracy: 0.6574 - val_loss: 4.8914 - val_accuracy: 0.1705\n",
            "\n",
            "Epoch 00006: val_loss did not improve from 3.78426\n",
            "Epoch 7/10\n",
            "499/500 [============================>.] - ETA: 0s - loss: 1.0854 - accuracy: 0.6827\n",
            "Epoch 00007: val_loss did not improve from 3.78426\n",
            "Epoch 8/10\n",
            "500/500 [==============================] - 260s 521ms/step - loss: 0.9850 - accuracy: 0.7091 - val_loss: 5.0138 - val_accuracy: 0.1761\n",
            "\n",
            "Epoch 00008: val_loss did not improve from 3.78426\n",
            "Epoch 9/10\n",
            "180/500 [=========>....................] - ETA: 2:40 - loss: 0.9248 - accuracy: 0.7278"
          ],
          "name": "stdout"
        },
        {
          "output_type": "error",
          "ename": "KeyboardInterrupt",
          "evalue": "ignored",
          "traceback": [
            "\u001b[0;31m---------------------------------------------------------------------------\u001b[0m",
            "\u001b[0;31mKeyboardInterrupt\u001b[0m                         Traceback (most recent call last)",
            "\u001b[0;32m<ipython-input-59-9874ca65e314>\u001b[0m in \u001b[0;36m<module>\u001b[0;34m()\u001b[0m\n\u001b[1;32m      5\u001b[0m         \u001b[0mepochs\u001b[0m\u001b[0;34m=\u001b[0m\u001b[0;36m10\u001b[0m\u001b[0;34m,\u001b[0m\u001b[0;34m\u001b[0m\u001b[0;34m\u001b[0m\u001b[0m\n\u001b[1;32m      6\u001b[0m         \u001b[0mvalidation_data\u001b[0m \u001b[0;34m=\u001b[0m \u001b[0mval_generator\u001b[0m\u001b[0;34m,\u001b[0m\u001b[0;34m\u001b[0m\u001b[0;34m\u001b[0m\u001b[0m\n\u001b[0;32m----> 7\u001b[0;31m         callbacks=[checkpointer], verbose=1 )\n\u001b[0m",
            "\u001b[0;32m/usr/local/lib/python3.6/dist-packages/keras/legacy/interfaces.py\u001b[0m in \u001b[0;36mwrapper\u001b[0;34m(*args, **kwargs)\u001b[0m\n\u001b[1;32m     89\u001b[0m                 warnings.warn('Update your `' + object_name + '` call to the ' +\n\u001b[1;32m     90\u001b[0m                               'Keras 2 API: ' + signature, stacklevel=2)\n\u001b[0;32m---> 91\u001b[0;31m             \u001b[0;32mreturn\u001b[0m \u001b[0mfunc\u001b[0m\u001b[0;34m(\u001b[0m\u001b[0;34m*\u001b[0m\u001b[0margs\u001b[0m\u001b[0;34m,\u001b[0m \u001b[0;34m**\u001b[0m\u001b[0mkwargs\u001b[0m\u001b[0;34m)\u001b[0m\u001b[0;34m\u001b[0m\u001b[0;34m\u001b[0m\u001b[0m\n\u001b[0m\u001b[1;32m     92\u001b[0m         \u001b[0mwrapper\u001b[0m\u001b[0;34m.\u001b[0m\u001b[0m_original_function\u001b[0m \u001b[0;34m=\u001b[0m \u001b[0mfunc\u001b[0m\u001b[0;34m\u001b[0m\u001b[0;34m\u001b[0m\u001b[0m\n\u001b[1;32m     93\u001b[0m         \u001b[0;32mreturn\u001b[0m \u001b[0mwrapper\u001b[0m\u001b[0;34m\u001b[0m\u001b[0;34m\u001b[0m\u001b[0m\n",
            "\u001b[0;32m/usr/local/lib/python3.6/dist-packages/keras/engine/training.py\u001b[0m in \u001b[0;36mfit_generator\u001b[0;34m(self, generator, steps_per_epoch, epochs, verbose, callbacks, validation_data, validation_steps, validation_freq, class_weight, max_queue_size, workers, use_multiprocessing, shuffle, initial_epoch)\u001b[0m\n\u001b[1;32m   1730\u001b[0m             \u001b[0muse_multiprocessing\u001b[0m\u001b[0;34m=\u001b[0m\u001b[0muse_multiprocessing\u001b[0m\u001b[0;34m,\u001b[0m\u001b[0;34m\u001b[0m\u001b[0;34m\u001b[0m\u001b[0m\n\u001b[1;32m   1731\u001b[0m             \u001b[0mshuffle\u001b[0m\u001b[0;34m=\u001b[0m\u001b[0mshuffle\u001b[0m\u001b[0;34m,\u001b[0m\u001b[0;34m\u001b[0m\u001b[0;34m\u001b[0m\u001b[0m\n\u001b[0;32m-> 1732\u001b[0;31m             initial_epoch=initial_epoch)\n\u001b[0m\u001b[1;32m   1733\u001b[0m \u001b[0;34m\u001b[0m\u001b[0m\n\u001b[1;32m   1734\u001b[0m     \u001b[0;34m@\u001b[0m\u001b[0minterfaces\u001b[0m\u001b[0;34m.\u001b[0m\u001b[0mlegacy_generator_methods_support\u001b[0m\u001b[0;34m\u001b[0m\u001b[0;34m\u001b[0m\u001b[0m\n",
            "\u001b[0;32m/usr/local/lib/python3.6/dist-packages/keras/engine/training_generator.py\u001b[0m in \u001b[0;36mfit_generator\u001b[0;34m(model, generator, steps_per_epoch, epochs, verbose, callbacks, validation_data, validation_steps, validation_freq, class_weight, max_queue_size, workers, use_multiprocessing, shuffle, initial_epoch)\u001b[0m\n\u001b[1;32m    183\u001b[0m             \u001b[0mbatch_index\u001b[0m \u001b[0;34m=\u001b[0m \u001b[0;36m0\u001b[0m\u001b[0;34m\u001b[0m\u001b[0;34m\u001b[0m\u001b[0m\n\u001b[1;32m    184\u001b[0m             \u001b[0;32mwhile\u001b[0m \u001b[0msteps_done\u001b[0m \u001b[0;34m<\u001b[0m \u001b[0msteps_per_epoch\u001b[0m\u001b[0;34m:\u001b[0m\u001b[0;34m\u001b[0m\u001b[0;34m\u001b[0m\u001b[0m\n\u001b[0;32m--> 185\u001b[0;31m                 \u001b[0mgenerator_output\u001b[0m \u001b[0;34m=\u001b[0m \u001b[0mnext\u001b[0m\u001b[0;34m(\u001b[0m\u001b[0moutput_generator\u001b[0m\u001b[0;34m)\u001b[0m\u001b[0;34m\u001b[0m\u001b[0;34m\u001b[0m\u001b[0m\n\u001b[0m\u001b[1;32m    186\u001b[0m \u001b[0;34m\u001b[0m\u001b[0m\n\u001b[1;32m    187\u001b[0m                 \u001b[0;32mif\u001b[0m \u001b[0;32mnot\u001b[0m \u001b[0mhasattr\u001b[0m\u001b[0;34m(\u001b[0m\u001b[0mgenerator_output\u001b[0m\u001b[0;34m,\u001b[0m \u001b[0;34m'__len__'\u001b[0m\u001b[0;34m)\u001b[0m\u001b[0;34m:\u001b[0m\u001b[0;34m\u001b[0m\u001b[0;34m\u001b[0m\u001b[0m\n",
            "\u001b[0;32m/usr/local/lib/python3.6/dist-packages/keras/utils/data_utils.py\u001b[0m in \u001b[0;36mget\u001b[0;34m(self)\u001b[0m\n\u001b[1;32m    608\u001b[0m                 \u001b[0;32mtry\u001b[0m\u001b[0;34m:\u001b[0m\u001b[0;34m\u001b[0m\u001b[0;34m\u001b[0m\u001b[0m\n\u001b[1;32m    609\u001b[0m                     \u001b[0mfuture\u001b[0m \u001b[0;34m=\u001b[0m \u001b[0mself\u001b[0m\u001b[0;34m.\u001b[0m\u001b[0mqueue\u001b[0m\u001b[0;34m.\u001b[0m\u001b[0mget\u001b[0m\u001b[0;34m(\u001b[0m\u001b[0mblock\u001b[0m\u001b[0;34m=\u001b[0m\u001b[0;32mTrue\u001b[0m\u001b[0;34m)\u001b[0m\u001b[0;34m\u001b[0m\u001b[0;34m\u001b[0m\u001b[0m\n\u001b[0;32m--> 610\u001b[0;31m                     \u001b[0minputs\u001b[0m \u001b[0;34m=\u001b[0m \u001b[0mfuture\u001b[0m\u001b[0;34m.\u001b[0m\u001b[0mget\u001b[0m\u001b[0;34m(\u001b[0m\u001b[0mtimeout\u001b[0m\u001b[0;34m=\u001b[0m\u001b[0;36m30\u001b[0m\u001b[0;34m)\u001b[0m\u001b[0;34m\u001b[0m\u001b[0;34m\u001b[0m\u001b[0m\n\u001b[0m\u001b[1;32m    611\u001b[0m                 \u001b[0;32mexcept\u001b[0m \u001b[0mmp\u001b[0m\u001b[0;34m.\u001b[0m\u001b[0mTimeoutError\u001b[0m\u001b[0;34m:\u001b[0m\u001b[0;34m\u001b[0m\u001b[0;34m\u001b[0m\u001b[0m\n\u001b[1;32m    612\u001b[0m                     \u001b[0midx\u001b[0m \u001b[0;34m=\u001b[0m \u001b[0mfuture\u001b[0m\u001b[0;34m.\u001b[0m\u001b[0midx\u001b[0m\u001b[0;34m\u001b[0m\u001b[0;34m\u001b[0m\u001b[0m\n",
            "\u001b[0;32m/usr/lib/python3.6/multiprocessing/pool.py\u001b[0m in \u001b[0;36mget\u001b[0;34m(self, timeout)\u001b[0m\n\u001b[1;32m    636\u001b[0m \u001b[0;34m\u001b[0m\u001b[0m\n\u001b[1;32m    637\u001b[0m     \u001b[0;32mdef\u001b[0m \u001b[0mget\u001b[0m\u001b[0;34m(\u001b[0m\u001b[0mself\u001b[0m\u001b[0;34m,\u001b[0m \u001b[0mtimeout\u001b[0m\u001b[0;34m=\u001b[0m\u001b[0;32mNone\u001b[0m\u001b[0;34m)\u001b[0m\u001b[0;34m:\u001b[0m\u001b[0;34m\u001b[0m\u001b[0;34m\u001b[0m\u001b[0m\n\u001b[0;32m--> 638\u001b[0;31m         \u001b[0mself\u001b[0m\u001b[0;34m.\u001b[0m\u001b[0mwait\u001b[0m\u001b[0;34m(\u001b[0m\u001b[0mtimeout\u001b[0m\u001b[0;34m)\u001b[0m\u001b[0;34m\u001b[0m\u001b[0;34m\u001b[0m\u001b[0m\n\u001b[0m\u001b[1;32m    639\u001b[0m         \u001b[0;32mif\u001b[0m \u001b[0;32mnot\u001b[0m \u001b[0mself\u001b[0m\u001b[0;34m.\u001b[0m\u001b[0mready\u001b[0m\u001b[0;34m(\u001b[0m\u001b[0;34m)\u001b[0m\u001b[0;34m:\u001b[0m\u001b[0;34m\u001b[0m\u001b[0;34m\u001b[0m\u001b[0m\n\u001b[1;32m    640\u001b[0m             \u001b[0;32mraise\u001b[0m \u001b[0mTimeoutError\u001b[0m\u001b[0;34m\u001b[0m\u001b[0;34m\u001b[0m\u001b[0m\n",
            "\u001b[0;32m/usr/lib/python3.6/multiprocessing/pool.py\u001b[0m in \u001b[0;36mwait\u001b[0;34m(self, timeout)\u001b[0m\n\u001b[1;32m    633\u001b[0m \u001b[0;34m\u001b[0m\u001b[0m\n\u001b[1;32m    634\u001b[0m     \u001b[0;32mdef\u001b[0m \u001b[0mwait\u001b[0m\u001b[0;34m(\u001b[0m\u001b[0mself\u001b[0m\u001b[0;34m,\u001b[0m \u001b[0mtimeout\u001b[0m\u001b[0;34m=\u001b[0m\u001b[0;32mNone\u001b[0m\u001b[0;34m)\u001b[0m\u001b[0;34m:\u001b[0m\u001b[0;34m\u001b[0m\u001b[0;34m\u001b[0m\u001b[0m\n\u001b[0;32m--> 635\u001b[0;31m         \u001b[0mself\u001b[0m\u001b[0;34m.\u001b[0m\u001b[0m_event\u001b[0m\u001b[0;34m.\u001b[0m\u001b[0mwait\u001b[0m\u001b[0;34m(\u001b[0m\u001b[0mtimeout\u001b[0m\u001b[0;34m)\u001b[0m\u001b[0;34m\u001b[0m\u001b[0;34m\u001b[0m\u001b[0m\n\u001b[0m\u001b[1;32m    636\u001b[0m \u001b[0;34m\u001b[0m\u001b[0m\n\u001b[1;32m    637\u001b[0m     \u001b[0;32mdef\u001b[0m \u001b[0mget\u001b[0m\u001b[0;34m(\u001b[0m\u001b[0mself\u001b[0m\u001b[0;34m,\u001b[0m \u001b[0mtimeout\u001b[0m\u001b[0;34m=\u001b[0m\u001b[0;32mNone\u001b[0m\u001b[0;34m)\u001b[0m\u001b[0;34m:\u001b[0m\u001b[0;34m\u001b[0m\u001b[0;34m\u001b[0m\u001b[0m\n",
            "\u001b[0;32m/usr/lib/python3.6/threading.py\u001b[0m in \u001b[0;36mwait\u001b[0;34m(self, timeout)\u001b[0m\n\u001b[1;32m    549\u001b[0m             \u001b[0msignaled\u001b[0m \u001b[0;34m=\u001b[0m \u001b[0mself\u001b[0m\u001b[0;34m.\u001b[0m\u001b[0m_flag\u001b[0m\u001b[0;34m\u001b[0m\u001b[0;34m\u001b[0m\u001b[0m\n\u001b[1;32m    550\u001b[0m             \u001b[0;32mif\u001b[0m \u001b[0;32mnot\u001b[0m \u001b[0msignaled\u001b[0m\u001b[0;34m:\u001b[0m\u001b[0;34m\u001b[0m\u001b[0;34m\u001b[0m\u001b[0m\n\u001b[0;32m--> 551\u001b[0;31m                 \u001b[0msignaled\u001b[0m \u001b[0;34m=\u001b[0m \u001b[0mself\u001b[0m\u001b[0;34m.\u001b[0m\u001b[0m_cond\u001b[0m\u001b[0;34m.\u001b[0m\u001b[0mwait\u001b[0m\u001b[0;34m(\u001b[0m\u001b[0mtimeout\u001b[0m\u001b[0;34m)\u001b[0m\u001b[0;34m\u001b[0m\u001b[0;34m\u001b[0m\u001b[0m\n\u001b[0m\u001b[1;32m    552\u001b[0m             \u001b[0;32mreturn\u001b[0m \u001b[0msignaled\u001b[0m\u001b[0;34m\u001b[0m\u001b[0;34m\u001b[0m\u001b[0m\n\u001b[1;32m    553\u001b[0m \u001b[0;34m\u001b[0m\u001b[0m\n",
            "\u001b[0;32m/usr/lib/python3.6/threading.py\u001b[0m in \u001b[0;36mwait\u001b[0;34m(self, timeout)\u001b[0m\n\u001b[1;32m    297\u001b[0m             \u001b[0;32melse\u001b[0m\u001b[0;34m:\u001b[0m\u001b[0;34m\u001b[0m\u001b[0;34m\u001b[0m\u001b[0m\n\u001b[1;32m    298\u001b[0m                 \u001b[0;32mif\u001b[0m \u001b[0mtimeout\u001b[0m \u001b[0;34m>\u001b[0m \u001b[0;36m0\u001b[0m\u001b[0;34m:\u001b[0m\u001b[0;34m\u001b[0m\u001b[0;34m\u001b[0m\u001b[0m\n\u001b[0;32m--> 299\u001b[0;31m                     \u001b[0mgotit\u001b[0m \u001b[0;34m=\u001b[0m \u001b[0mwaiter\u001b[0m\u001b[0;34m.\u001b[0m\u001b[0macquire\u001b[0m\u001b[0;34m(\u001b[0m\u001b[0;32mTrue\u001b[0m\u001b[0;34m,\u001b[0m \u001b[0mtimeout\u001b[0m\u001b[0;34m)\u001b[0m\u001b[0;34m\u001b[0m\u001b[0;34m\u001b[0m\u001b[0m\n\u001b[0m\u001b[1;32m    300\u001b[0m                 \u001b[0;32melse\u001b[0m\u001b[0;34m:\u001b[0m\u001b[0;34m\u001b[0m\u001b[0;34m\u001b[0m\u001b[0m\n\u001b[1;32m    301\u001b[0m                     \u001b[0mgotit\u001b[0m \u001b[0;34m=\u001b[0m \u001b[0mwaiter\u001b[0m\u001b[0;34m.\u001b[0m\u001b[0macquire\u001b[0m\u001b[0;34m(\u001b[0m\u001b[0;32mFalse\u001b[0m\u001b[0;34m)\u001b[0m\u001b[0;34m\u001b[0m\u001b[0;34m\u001b[0m\u001b[0m\n",
            "\u001b[0;31mKeyboardInterrupt\u001b[0m: "
          ]
        }
      ]
    },
    {
      "cell_type": "markdown",
      "metadata": {
        "id": "mx8BU-X5erGf",
        "colab_type": "text"
      },
      "source": [
        "Got accuracy of 33% before."
      ]
    },
    {
      "cell_type": "code",
      "metadata": {
        "id": "cNsWDDT0ZvKo",
        "colab_type": "code",
        "colab": {}
      },
      "source": [
        "#scores = model.evaluate(X_val, y_val, verbose=0)\n",
        "#print(\"%s: %.2f%%\" % (model.metrics_names[1], scores[1]*100)) "
      ],
      "execution_count": 0,
      "outputs": []
    },
    {
      "cell_type": "markdown",
      "metadata": {
        "id": "Ego2K_vHjSW1",
        "colab_type": "text"
      },
      "source": [
        "More training"
      ]
    },
    {
      "cell_type": "code",
      "metadata": {
        "id": "ACMzKQugjR89",
        "colab_type": "code",
        "colab": {}
      },
      "source": [
        "model.load_weights('/content/drive/My Drive/Paridhi_Colab/CNN_Project/Data/weights.best_from_scratch.hdf5')"
      ],
      "execution_count": 0,
      "outputs": []
    },
    {
      "cell_type": "code",
      "metadata": {
        "id": "eZNUEUTXjUN9",
        "colab_type": "code",
        "colab": {}
      },
      "source": [
        "hist = model.fit_generator(train_generator,\n",
        "                    validation_data= val_generator, \n",
        "                    steps_per_epoch= 64 // batch_size,\n",
        "                    epochs= 5, callbacks=[checkpointer], verbose=1)"
      ],
      "execution_count": 0,
      "outputs": []
    },
    {
      "cell_type": "code",
      "metadata": {
        "id": "LR7-C9u0jUSI",
        "colab_type": "code",
        "colab": {}
      },
      "source": [
        "#scores = model.evaluate(X_val, y_val, verbose=0)\n",
        "#print(\"%s: %.2f%%\" % (model.metrics_names[1], scores[1]*100)) "
      ],
      "execution_count": 0,
      "outputs": []
    },
    {
      "cell_type": "markdown",
      "metadata": {
        "id": "UBvpsJHi6oHE",
        "colab_type": "text"
      },
      "source": [
        "Graph representation of validation loss vs number of epochs"
      ]
    },
    {
      "cell_type": "code",
      "metadata": {
        "id": "W_ar8rqA0O9-",
        "colab_type": "code",
        "colab": {}
      },
      "source": [
        "import matplotlib.pyplot as plt\n",
        "#%matplotlib inline\n",
        "\n",
        "plt.plot(hist.history['val_loss'])\n",
        "plt.xlabel('epochs')\n",
        "plt.ylabel('validation loss')\n",
        "plt.show()"
      ],
      "execution_count": 0,
      "outputs": []
    },
    {
      "cell_type": "markdown",
      "metadata": {
        "id": "gE-koPZ96u0L",
        "colab_type": "text"
      },
      "source": [
        "Graph representation of test accuracy"
      ]
    },
    {
      "cell_type": "code",
      "metadata": {
        "id": "ZOSDYQqd6rfN",
        "colab_type": "code",
        "colab": {}
      },
      "source": [
        "\n",
        "plt.plot(hist.history['acc'])\n",
        "plt.xlabel('epochs')\n",
        "plt.ylabel('accuracy')\n",
        "plt.show()"
      ],
      "execution_count": 0,
      "outputs": []
    },
    {
      "cell_type": "code",
      "metadata": {
        "id": "6tnWrSqP6yUC",
        "colab_type": "code",
        "colab": {}
      },
      "source": [
        "plt.plot(hist.history['acc'],label=\"Accuracy\")\n",
        "plt.plot(hist.history['val_acc'], label=\"Validation accuracy\")\n",
        "plt.legend()\n",
        "plt.xlabel('epochs')\n",
        "plt.show()"
      ],
      "execution_count": 0,
      "outputs": []
    },
    {
      "cell_type": "code",
      "metadata": {
        "id": "FYSVfnKl60m5",
        "colab_type": "code",
        "colab": {}
      },
      "source": [
        "plt.plot(hist.history['loss'],label=\"traing loss\")\n",
        "plt.plot(hist.history['val_loss'], label=\"Validation loss\")\n",
        "plt.legend()\n",
        "plt.xlabel('epochs')\n",
        "plt.show()"
      ],
      "execution_count": 0,
      "outputs": []
    },
    {
      "cell_type": "markdown",
      "metadata": {
        "id": "F7LWk5O8SJp3",
        "colab_type": "text"
      },
      "source": [
        "# Model accuracy is still poor!!!"
      ]
    },
    {
      "cell_type": "markdown",
      "metadata": {
        "id": "5vQ1foyPSNDD",
        "colab_type": "text"
      },
      "source": [
        "Lets use Transfer Learning\n",
        "Download the vgg wieght file from here : https://github.com/MinerKasch/applied_deep_learning/blob/master/vgg16_weights_tf_dim_ordering_tf_kernels_notop.h5\n",
        "\n",
        "Use the below code to load VGG16 weights trained on ImageNet"
      ]
    },
    {
      "cell_type": "code",
      "metadata": {
        "id": "uwgg7z-I-FhW",
        "colab_type": "code",
        "colab": {}
      },
      "source": [
        ""
      ],
      "execution_count": 0,
      "outputs": []
    },
    {
      "cell_type": "code",
      "metadata": {
        "id": "tqolmE3YOcF8",
        "colab_type": "code",
        "colab": {}
      },
      "source": [
        "from keras.applications.vgg16 import VGG16, preprocess_input\n",
        "# Instantiate the model with the pre-trained weights (no top)\n",
        "base_model= VGG16(weights=(project_path+'/vgg16_weights_tf_dim_ordering_tf_kernels_notop.h5'),\n",
        "                   include_top=False,input_shape = (128, 128, 3))\n",
        "\n",
        "#input_shape = (128, 128, 3)"
      ],
      "execution_count": 0,
      "outputs": []
    },
    {
      "cell_type": "code",
      "metadata": {
        "id": "TP6U0g05CP93",
        "colab_type": "code",
        "colab": {}
      },
      "source": [
        ""
      ],
      "execution_count": 0,
      "outputs": []
    },
    {
      "cell_type": "markdown",
      "metadata": {
        "id": "U5Y-Q7wgVTMt",
        "colab_type": "text"
      },
      "source": [
        "Print the summary of the base_model"
      ]
    },
    {
      "cell_type": "code",
      "metadata": {
        "id": "mfGR9jt9VU2U",
        "colab_type": "code",
        "colab": {
          "base_uri": "https://localhost:8080/",
          "height": 854
        },
        "outputId": "f80767ff-abbc-4479-8b33-e1e801942099"
      },
      "source": [
        "base_model.summary()"
      ],
      "execution_count": 63,
      "outputs": [
        {
          "output_type": "stream",
          "text": [
            "Model: \"vgg16\"\n",
            "_________________________________________________________________\n",
            "Layer (type)                 Output Shape              Param #   \n",
            "=================================================================\n",
            "input_1 (InputLayer)         (None, 128, 128, 3)       0         \n",
            "_________________________________________________________________\n",
            "block1_conv1 (Conv2D)        (None, 128, 128, 64)      1792      \n",
            "_________________________________________________________________\n",
            "block1_conv2 (Conv2D)        (None, 128, 128, 64)      36928     \n",
            "_________________________________________________________________\n",
            "block1_pool (MaxPooling2D)   (None, 64, 64, 64)        0         \n",
            "_________________________________________________________________\n",
            "block2_conv1 (Conv2D)        (None, 64, 64, 128)       73856     \n",
            "_________________________________________________________________\n",
            "block2_conv2 (Conv2D)        (None, 64, 64, 128)       147584    \n",
            "_________________________________________________________________\n",
            "block2_pool (MaxPooling2D)   (None, 32, 32, 128)       0         \n",
            "_________________________________________________________________\n",
            "block3_conv1 (Conv2D)        (None, 32, 32, 256)       295168    \n",
            "_________________________________________________________________\n",
            "block3_conv2 (Conv2D)        (None, 32, 32, 256)       590080    \n",
            "_________________________________________________________________\n",
            "block3_conv3 (Conv2D)        (None, 32, 32, 256)       590080    \n",
            "_________________________________________________________________\n",
            "block3_pool (MaxPooling2D)   (None, 16, 16, 256)       0         \n",
            "_________________________________________________________________\n",
            "block4_conv1 (Conv2D)        (None, 16, 16, 512)       1180160   \n",
            "_________________________________________________________________\n",
            "block4_conv2 (Conv2D)        (None, 16, 16, 512)       2359808   \n",
            "_________________________________________________________________\n",
            "block4_conv3 (Conv2D)        (None, 16, 16, 512)       2359808   \n",
            "_________________________________________________________________\n",
            "block4_pool (MaxPooling2D)   (None, 8, 8, 512)         0         \n",
            "_________________________________________________________________\n",
            "block5_conv1 (Conv2D)        (None, 8, 8, 512)         2359808   \n",
            "_________________________________________________________________\n",
            "block5_conv2 (Conv2D)        (None, 8, 8, 512)         2359808   \n",
            "_________________________________________________________________\n",
            "block5_conv3 (Conv2D)        (None, 8, 8, 512)         2359808   \n",
            "_________________________________________________________________\n",
            "block5_pool (MaxPooling2D)   (None, 4, 4, 512)         0         \n",
            "=================================================================\n",
            "Total params: 14,714,688\n",
            "Trainable params: 14,714,688\n",
            "Non-trainable params: 0\n",
            "_________________________________________________________________\n"
          ],
          "name": "stdout"
        }
      ]
    },
    {
      "cell_type": "markdown",
      "metadata": {
        "id": "L7tfISYqVYth",
        "colab_type": "text"
      },
      "source": [
        "### Add the following classification layers to the imported VGG Model <br>\n",
        "1. Flatten Layer\n",
        "2. Dense layer with 1024 neurons with activation as Relu\n",
        "3. Dense layer with 256 neurons with activation as Relu\n",
        "4. Dense layer with 120 neurons with activation as Softmax"
      ]
    },
    {
      "cell_type": "code",
      "metadata": {
        "id": "R3BZU10rIu6u",
        "colab_type": "code",
        "colab": {}
      },
      "source": [
        "x = base_model.output\n",
        "x = Flatten()(x)\n",
        "x = Dropout(0.4)(x)\n",
        "# let's add two fully-connected layer\n",
        "x = Dense(1024, activation='relu')(x)\n",
        "x = BatchNormalization()(x)\n",
        "x = Dropout(0.4)(x)\n",
        "x = Dense(256, activation='relu')(x)\n",
        "x = BatchNormalization()(x)\n",
        "x = Dropout(0.2)(x)\n",
        "# and a softmax layer -- let's say we have 200 classes\n",
        "predictions = Dense(120, activation='softmax')(x)"
      ],
      "execution_count": 0,
      "outputs": []
    },
    {
      "cell_type": "markdown",
      "metadata": {
        "id": "njKUtnZZVjTn",
        "colab_type": "text"
      },
      "source": [
        "Make all the layers in the base_model (VGG16) to be non-trainable"
      ]
    },
    {
      "cell_type": "code",
      "metadata": {
        "id": "W_cWNcAAVj_k",
        "colab_type": "code",
        "colab": {}
      },
      "source": [
        "# Freeze the layers which you don't want to train. \n",
        "for layer in base_model.layers[:]:\n",
        "  layer.trainable = False"
      ],
      "execution_count": 0,
      "outputs": []
    },
    {
      "cell_type": "markdown",
      "metadata": {
        "id": "EmdfmX4sVl4O",
        "colab_type": "text"
      },
      "source": [
        "### Fit and compile the model with batch_size = 128 and epochs = 10 and execute the model"
      ]
    },
    {
      "cell_type": "code",
      "metadata": {
        "id": "5IXnJEKNJUk4",
        "colab_type": "code",
        "colab": {}
      },
      "source": [
        "# this is the model we will train\n",
        "from keras.models import Model\n",
        "model_vgg = Model(input=base_model.input, output=predictions)"
      ],
      "execution_count": 0,
      "outputs": []
    },
    {
      "cell_type": "code",
      "metadata": {
        "id": "YaHQCyAAVmnX",
        "colab_type": "code",
        "colab": {}
      },
      "source": [
        "# compile the model (should be done *after* setting layers to non-trainable)\n",
        "\n",
        "from keras.optimizers import SGD, RMSprop, Adam\n",
        "model_vgg.compile(optimizer=Adam(lr=0.0001), loss='categorical_crossentropy', metrics=['accuracy'])"
      ],
      "execution_count": 0,
      "outputs": []
    },
    {
      "cell_type": "code",
      "metadata": {
        "id": "n0YUytpAVoB-",
        "colab_type": "code",
        "colab": {}
      },
      "source": [
        "\n",
        "model_vgg.fit_generator(train_generator, samples_per_epoch= len(train_generator), nb_epoch=10, \n",
        "                        validation_data= val_generator,nb_val_samples= len(val_generator),verbose = 1)"
      ],
      "execution_count": 0,
      "outputs": []
    },
    {
      "cell_type": "code",
      "metadata": {
        "id": "flOfnY2LARaj",
        "colab_type": "code",
        "colab": {}
      },
      "source": [
        "model_vgg.optimizer.learning_rate = 1e6\n",
        "model_vgg.fit_generator(train_generator, samples_per_epoch= train_generator.nb_samples, nb_epoch=10, \n",
        "                        validation_data=val_generator, nb_val_samples = val_generator.nb_samples)"
      ],
      "execution_count": 0,
      "outputs": []
    },
    {
      "cell_type": "code",
      "metadata": {
        "id": "5pQYQg8USBcr",
        "colab_type": "code",
        "colab": {
          "base_uri": "https://localhost:8080/",
          "height": 35
        },
        "outputId": "2d4d68b4-47d0-42b9-a61b-2c16e396ce28"
      },
      "source": [
        "scores = model.evaluate(X_val, y_val, verbose=0)\n",
        "print(\"%s: %.2f%%\" % (model.metrics_names[1], scores[0]*100)) "
      ],
      "execution_count": 79,
      "outputs": [
        {
          "output_type": "stream",
          "text": [
            "accuracy: 53.00%\n"
          ],
          "name": "stdout"
        }
      ]
    },
    {
      "cell_type": "code",
      "metadata": {
        "id": "oX0LeqxYATok",
        "colab_type": "code",
        "colab": {}
      },
      "source": [
        "model_vgg.save_weights('vgg_model_weights.h5')"
      ],
      "execution_count": 0,
      "outputs": []
    },
    {
      "cell_type": "markdown",
      "metadata": {
        "id": "xVAifP43VpIm",
        "colab_type": "text"
      },
      "source": [
        "Try to get training and validation accuracy to be more than 90%"
      ]
    },
    {
      "cell_type": "markdown",
      "metadata": {
        "id": "h6GSFQ6Ge9OH",
        "colab_type": "text"
      },
      "source": [
        "Using more training data increasing the accuracy but due to GPU load I was unable to train model. By taking steps = X_train.shape[0] was giving the best result.\n",
        "\n",
        "Also , different augmentation and optimizer function would change the accuracy."
      ]
    }
  ]
}